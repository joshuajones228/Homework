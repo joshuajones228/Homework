{
 "cells": [
  {
   "cell_type": "code",
   "execution_count": 18,
   "id": "5bc6cacc-eded-4a59-9ce3-cc2bee8b08dd",
   "metadata": {
    "tags": []
   },
   "outputs": [],
   "source": [
    " import datetime"
   ]
  },
  {
   "cell_type": "markdown",
   "id": "864264f8-7d44-44f0-8da4-cc21f48a406c",
   "metadata": {
    "tags": []
   },
   "source": [
    "### 6. Write a multi line comment with you name, favorite food, and dream job on 3 different lines"
   ]
  },
  {
   "cell_type": "code",
   "execution_count": 19,
   "id": "2b6cc328-b4c0-4ca4-b694-4e2d371a921a",
   "metadata": {
    "tags": []
   },
   "outputs": [
    {
     "name": "stdout",
     "output_type": "stream",
     "text": [
      "Hello, my name is Josh. \n",
      "My favorite food is pizza.\n",
      "My dream job is being a park ranger\n"
     ]
    }
   ],
   "source": [
    "print(\"Hello, my name is Josh. \\nMy favorite food is pizza.\\nMy dream job is being a park ranger\")"
   ]
  },
  {
   "cell_type": "code",
   "execution_count": 20,
   "id": "cdffddac-2630-4f98-98c3-dd52f1c639dc",
   "metadata": {
    "tags": []
   },
   "outputs": [
    {
     "name": "stdout",
     "output_type": "stream",
     "text": [
      "Hello, my name is Josh\n",
      "My favroite food is pizza.\n",
      "My dream job is a park ranger.\n"
     ]
    }
   ],
   "source": [
    "print('''Hello, my name is Josh\n",
    "My favroite food is pizza.\n",
    "My dream job is a park ranger.''')"
   ]
  },
  {
   "cell_type": "markdown",
   "id": "fa7b9453-83c8-482b-9b77-031e79aee1cf",
   "metadata": {},
   "source": [
    "### 7. Assign 5 different data types to 5 different variables. at least one datatype must be a string."
   ]
  },
  {
   "cell_type": "code",
   "execution_count": 21,
   "id": "eddad45e-cbe9-4c10-9e6f-8bec5f08d7c6",
   "metadata": {
    "tags": []
   },
   "outputs": [],
   "source": [
    "mr_float = 30.5\n",
    "miss_integer = 30\n",
    "large_animal = 'Elephant'\n",
    "pizza_sucks =  False\n",
    "was_born = datetime.datetime(1988,3,21)"
   ]
  },
  {
   "cell_type": "markdown",
   "id": "c5b3a0ff-2ece-4690-bbbf-74c316db1263",
   "metadata": {},
   "source": [
    "testing vars"
   ]
  },
  {
   "cell_type": "code",
   "execution_count": 28,
   "id": "08c1c668-ae5a-4cf0-8996-bc7a27b8d08b",
   "metadata": {
    "tags": []
   },
   "outputs": [
    {
     "name": "stdout",
     "output_type": "stream",
     "text": [
      "1988-03-21 00:00:00\n",
      "does pizza suck? False\n",
      "what is an Elephant?\n",
      "I think 30.5 fell for 30. It is not always about what is after the decimal place :)\n"
     ]
    }
   ],
   "source": [
    "print(was_born)\n",
    "print(f'does pizza suck? {pizza_sucks}')\n",
    "print(f'what is an {large_animal}?')\n",
    "print(f'I think {mr_float} fell for {miss_integer}. It is not always about what is after the decimal place :)')\n"
   ]
  },
  {
   "cell_type": "markdown",
   "id": "31ab84ca-fa60-405c-bf44-edf73053aacd",
   "metadata": {},
   "source": [
    "#### -Print the length of your string"
   ]
  },
  {
   "cell_type": "code",
   "execution_count": 35,
   "id": "30b58204-c7ea-452c-9497-e7d201dc2df1",
   "metadata": {
    "tags": []
   },
   "outputs": [
    {
     "name": "stdout",
     "output_type": "stream",
     "text": [
      "8\n"
     ]
    }
   ],
   "source": [
    "print(len(large_animal))"
   ]
  },
  {
   "cell_type": "markdown",
   "id": "9714688d-5271-45b4-949b-81f7cfa41db9",
   "metadata": {},
   "source": [
    "#### -Print the index value of the 4th character in your string"
   ]
  },
  {
   "cell_type": "code",
   "execution_count": 30,
   "id": "d2fa7310-324c-4681-b07f-1c52bf83bf42",
   "metadata": {
    "tags": []
   },
   "outputs": [
    {
     "data": {
      "text/plain": [
       "'h'"
      ]
     },
     "execution_count": 30,
     "metadata": {},
     "output_type": "execute_result"
    }
   ],
   "source": [
    "large_animal[4:5]"
   ]
  },
  {
   "cell_type": "markdown",
   "id": "2470aa7e-e856-4c4a-9afc-b848a46b304d",
   "metadata": {},
   "source": [
    "### 8. Create a new variable called savvy, and assign it the string with this phrase \"Learning Data Analytics and Python is Awesome!\""
   ]
  },
  {
   "cell_type": "code",
   "execution_count": 36,
   "id": "415ffcae-0ee5-4acd-81bf-9fc48d4bb7ba",
   "metadata": {
    "tags": []
   },
   "outputs": [],
   "source": [
    "savvy= 'Learning Data Analytics and Python is Awesome!'"
   ]
  },
  {
   "cell_type": "markdown",
   "id": "22ccaeb6-2287-4722-b98e-82a4be86e19b",
   "metadata": {},
   "source": [
    "#### -Return a range of characters that slices the above string from the beginning of \"ing\" up to before \"and\""
   ]
  },
  {
   "cell_type": "code",
   "execution_count": 39,
   "id": "f866da54-32e7-4896-a3c9-7d01f54857ef",
   "metadata": {
    "tags": []
   },
   "outputs": [
    {
     "data": {
      "text/plain": [
       "5"
      ]
     },
     "execution_count": 39,
     "metadata": {},
     "output_type": "execute_result"
    }
   ],
   "source": [
    "savvy.index('i')"
   ]
  },
  {
   "cell_type": "code",
   "execution_count": 40,
   "id": "704ff7e1-9b97-4f55-b667-40c566e9b792",
   "metadata": {
    "tags": []
   },
   "outputs": [
    {
     "data": {
      "text/plain": [
       "26"
      ]
     },
     "execution_count": 40,
     "metadata": {},
     "output_type": "execute_result"
    }
   ],
   "source": [
    "savvy.index('d')"
   ]
  },
  {
   "cell_type": "code",
   "execution_count": 42,
   "id": "0d2c7479-da21-4c0c-9e7b-d3b9e954420a",
   "metadata": {
    "tags": []
   },
   "outputs": [
    {
     "data": {
      "text/plain": [
       "'ing Data Analytics and'"
      ]
     },
     "execution_count": 42,
     "metadata": {},
     "output_type": "execute_result"
    }
   ],
   "source": [
    "savvy[5:27]"
   ]
  },
  {
   "cell_type": "code",
   "execution_count": 45,
   "id": "c353236c-a0f5-46c9-9ec5-9fc3aa74be71",
   "metadata": {
    "tags": []
   },
   "outputs": [
    {
     "name": "stdout",
     "output_type": "stream",
     "text": [
      "ing and\n"
     ]
    }
   ],
   "source": [
    "print(savvy[5:8], savvy[24:27])"
   ]
  },
  {
   "cell_type": "markdown",
   "id": "f42798f5-4896-48cd-b635-3d32e3325d9f",
   "metadata": {},
   "source": [
    "#### -Replace \"Awesome\" with \"great\" in the string"
   ]
  },
  {
   "cell_type": "code",
   "execution_count": 56,
   "id": "eb864a51-84ac-4d88-8952-8d37f178f2d2",
   "metadata": {
    "tags": []
   },
   "outputs": [
    {
     "data": {
      "text/plain": [
       "'Learning Data Analytics and Python is grate!'"
      ]
     },
     "execution_count": 56,
     "metadata": {},
     "output_type": "execute_result"
    }
   ],
   "source": [
    "savvy.replace('Awesome', 'grate')"
   ]
  },
  {
   "cell_type": "code",
   "execution_count": 59,
   "id": "dc7d1051-3560-4cf5-8c44-15d076987c0a",
   "metadata": {
    "tags": []
   },
   "outputs": [],
   "source": [
    "savvy_great = savvy.replace('Awesome', 'great')"
   ]
  },
  {
   "cell_type": "code",
   "execution_count": 60,
   "id": "f128fa03-c0a7-42c8-a3fd-357cae5f0e8e",
   "metadata": {
    "tags": []
   },
   "outputs": [
    {
     "data": {
      "text/plain": [
       "'Learning Data Analytics and Python is great!'"
      ]
     },
     "execution_count": 60,
     "metadata": {},
     "output_type": "execute_result"
    }
   ],
   "source": [
    "savvy_great"
   ]
  },
  {
   "cell_type": "markdown",
   "id": "1d26d7a7-fb84-4d76-a379-a953a3056a2d",
   "metadata": {},
   "source": [
    "#### -Test and print the savvy string to see it contains \"Python\""
   ]
  },
  {
   "cell_type": "code",
   "execution_count": 58,
   "id": "e9c2bfbb-3fe9-4ae3-8404-1874574aafaf",
   "metadata": {
    "tags": []
   },
   "outputs": [
    {
     "data": {
      "text/plain": [
       "'Learning Data Analytics and Python is Awesome!'"
      ]
     },
     "execution_count": 58,
     "metadata": {},
     "output_type": "execute_result"
    }
   ],
   "source": [
    "savvy"
   ]
  },
  {
   "cell_type": "code",
   "execution_count": 61,
   "id": "445f0c94-a5a3-4bc5-b2ec-52dc266eeb5b",
   "metadata": {
    "tags": []
   },
   "outputs": [
    {
     "data": {
      "text/plain": [
       "'Learning Data Analytics and Python is great!'"
      ]
     },
     "execution_count": 61,
     "metadata": {},
     "output_type": "execute_result"
    }
   ],
   "source": [
    "savvy_great"
   ]
  },
  {
   "cell_type": "markdown",
   "id": "7f836173-54ed-440e-aba0-7496ac078d07",
   "metadata": {},
   "source": [
    "### 9. Create and assign 3 more variables called name, age and length using the multi-variable naming method."
   ]
  },
  {
   "cell_type": "markdown",
   "id": "62ea3337-1d68-42c2-a14e-6f14b2cfef4d",
   "metadata": {},
   "source": [
    "#### -Format a new string called 'miniBio' using variables in curly brackets to complete this phrase... \"Hi my name is (name), I am (tall) and (so) old today.\""
   ]
  },
  {
   "cell_type": "code",
   "execution_count": 89,
   "id": "b2311007-4dd9-4bcc-842f-afdeb606bcb1",
   "metadata": {
    "tags": []
   },
   "outputs": [],
   "source": [
    "name = 'Josh'\n",
    "tall = '6 feet 7 inches'\n",
    "so = '35'\n",
    "\n",
    "miniBio = f'Hi my name is {name} I am {tall} and {so} old today.'\n"
   ]
  },
  {
   "cell_type": "markdown",
   "id": "3e0bddb1-9460-4037-8be3-87fc76cc8ae5",
   "metadata": {},
   "source": [
    "#### -Print miniBio"
   ]
  },
  {
   "cell_type": "code",
   "execution_count": 90,
   "id": "bda0c89a-7ba1-460b-a600-8fbeb8b32719",
   "metadata": {
    "tags": []
   },
   "outputs": [
    {
     "name": "stdout",
     "output_type": "stream",
     "text": [
      "Hi my name is Josh I am 6 feet 7 inches and 35 old today.\n"
     ]
    }
   ],
   "source": [
    "print(miniBio)"
   ]
  },
  {
   "cell_type": "markdown",
   "id": "bf66874f-59ce-46a2-9110-f9c4a271a615",
   "metadata": {},
   "source": [
    "#### -Cast and print the age variable to a float"
   ]
  },
  {
   "cell_type": "code",
   "execution_count": 93,
   "id": "aac34553-3b1a-467c-86c2-dc1610cfd810",
   "metadata": {
    "tags": []
   },
   "outputs": [
    {
     "data": {
      "text/plain": [
       "35.0"
      ]
     },
     "execution_count": 93,
     "metadata": {},
     "output_type": "execute_result"
    }
   ],
   "source": [
    "float(so)"
   ]
  }
 ],
 "metadata": {
  "kernelspec": {
   "display_name": "Python 3 (ipykernel)",
   "language": "python",
   "name": "python3"
  },
  "language_info": {
   "codemirror_mode": {
    "name": "ipython",
    "version": 3
   },
   "file_extension": ".py",
   "mimetype": "text/x-python",
   "name": "python",
   "nbconvert_exporter": "python",
   "pygments_lexer": "ipython3",
   "version": "3.11.5"
  }
 },
 "nbformat": 4,
 "nbformat_minor": 5
}
