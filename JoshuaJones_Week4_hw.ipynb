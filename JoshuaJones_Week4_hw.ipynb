{
 "cells": [
  {
   "cell_type": "markdown",
   "id": "36e17d40-8f77-4a46-b4ad-ec5439c350e7",
   "metadata": {},
   "source": [
    "### 1. Create an if statement: if 'age' is greater than or equal to 25, print \"Renting a car is more affordable\", however if 'age' is less than 25, print \"Renting a car is very expensive.\""
   ]
  },
  {
   "cell_type": "code",
   "execution_count": 5,
   "id": "20647a69-2184-4bd5-b216-9ece3e491f77",
   "metadata": {},
   "outputs": [
    {
     "name": "stdout",
     "output_type": "stream",
     "text": [
      "Renting a car is more affordable.\n"
     ]
    }
   ],
   "source": [
    "age = 25\n",
    "\n",
    "if age >= 25:\n",
    "    print('Renting a car is more affordable.')\n",
    "elif age <= 25:\n",
    "    print('Renting a car is expensive.')"
   ]
  },
  {
   "cell_type": "markdown",
   "id": "e0f5c741-f60d-4045-b55d-53c0e9df5214",
   "metadata": {},
   "source": [
    "### 2. Create and chain an if-else statement: if 'age' is greater than or equal to 25, print \"Renting a car is more affordable.\" If 'age' is less than 25 but greater than or equal to 18, print \"Renting a car is very expensive.\" Finally, if age is less than 18, print \"You cannot legally rent a car.\""
   ]
  },
  {
   "cell_type": "code",
   "execution_count": 16,
   "id": "9afffcd4-e7d3-4be6-8170-f7448910dc7c",
   "metadata": {},
   "outputs": [
    {
     "name": "stdout",
     "output_type": "stream",
     "text": [
      "You cannot legally rent a car.\n"
     ]
    }
   ],
   "source": [
    "age = 17\n",
    "\n",
    "if age >= 25:\n",
    "    print('Renting a car is more affordable.')\n",
    "elif 18 <= age <= 25:\n",
    "    print('Renting a car is expensive.')\n",
    "elif age < 18:\n",
    "    print(\"You cannot legally rent a car.\")"
   ]
  },
  {
   "cell_type": "markdown",
   "id": "0ad5669d-79af-4389-82ce-8ef7fc5884dc",
   "metadata": {},
   "source": [
    "### 3. Loop over the following string to (1) count all the characters in the string and (2) print out all the vowels -- \"The quick brown fox jumps over the lazy dog\""
   ]
  },
  {
   "cell_type": "code",
   "execution_count": 139,
   "id": "f8595c7e-3a59-402f-9bd5-d00e080c7118",
   "metadata": {},
   "outputs": [
    {
     "name": "stdout",
     "output_type": "stream",
     "text": [
      "e\n",
      "u\n",
      "i\n",
      "o\n",
      "o\n",
      "u\n",
      "o\n",
      "e\n",
      "e\n",
      "a\n",
      "o\n",
      "43\n"
     ]
    }
   ],
   "source": [
    "string = \"The quick brown fox jumps over the lazy dog\"\n",
    "\n",
    "for char in string:\n",
    "    if char == ('a'):\n",
    "        print(char)\n",
    "    elif char == ('e'):\n",
    "        print(char)\n",
    "    elif char == ('i'):\n",
    "        print(char)\n",
    "    elif char == ('o'):\n",
    "        print(char)\n",
    "    elif char == ('u'):\n",
    "        print(char)\n",
    "else:\n",
    "    print(len(string))\n",
    "\n",
    "\n"
   ]
  },
  {
   "cell_type": "markdown",
   "id": "03f6abb7-4ae8-4cb4-86d9-82b253233ac2",
   "metadata": {},
   "source": [
    "### 4. Write a nested loop that prints out every piece of clothing from the couture list, in every fashionable color from the panettone set: couture = [\"trousers\", \"blouse\", \"bandana\", \"cumber band\", \"blazer\", \"vest\", \"french beret\", \"scarf\", \"stole\"] and panettone = {\"cerise\", \"fuchsia\", \"aqua\", \"maple\", \"auburn\", \"burnt sienna\", \"gunmetal blue\", \"Dark Sapphire\"}"
   ]
  },
  {
   "cell_type": "code",
   "execution_count": 155,
   "id": "bc484e55-1a55-4f51-aa94-01dc6b9b89be",
   "metadata": {},
   "outputs": [
    {
     "name": "stdout",
     "output_type": "stream",
     "text": [
      "trousers burnt sienna\n",
      "trousers Dark Sapphire\n",
      "trousers auburn\n",
      "trousers fuchsia\n",
      "trousers cerise\n",
      "trousers aqua\n",
      "trousers maple\n",
      "trousers gunmetal blue\n",
      "blouse burnt sienna\n",
      "blouse Dark Sapphire\n",
      "blouse auburn\n",
      "blouse fuchsia\n",
      "blouse cerise\n",
      "blouse aqua\n",
      "blouse maple\n",
      "blouse gunmetal blue\n",
      "bandana burnt sienna\n",
      "bandana Dark Sapphire\n",
      "bandana auburn\n",
      "bandana fuchsia\n",
      "bandana cerise\n",
      "bandana aqua\n",
      "bandana maple\n",
      "bandana gunmetal blue\n",
      "cumber band burnt sienna\n",
      "cumber band Dark Sapphire\n",
      "cumber band auburn\n",
      "cumber band fuchsia\n",
      "cumber band cerise\n",
      "cumber band aqua\n",
      "cumber band maple\n",
      "cumber band gunmetal blue\n",
      "blazer burnt sienna\n",
      "blazer Dark Sapphire\n",
      "blazer auburn\n",
      "blazer fuchsia\n",
      "blazer cerise\n",
      "blazer aqua\n",
      "blazer maple\n",
      "blazer gunmetal blue\n",
      "vest burnt sienna\n",
      "vest Dark Sapphire\n",
      "vest auburn\n",
      "vest fuchsia\n",
      "vest cerise\n",
      "vest aqua\n",
      "vest maple\n",
      "vest gunmetal blue\n",
      "french beret burnt sienna\n",
      "french beret Dark Sapphire\n",
      "french beret auburn\n",
      "french beret fuchsia\n",
      "french beret cerise\n",
      "french beret aqua\n",
      "french beret maple\n",
      "french beret gunmetal blue\n",
      "scarf burnt sienna\n",
      "scarf Dark Sapphire\n",
      "scarf auburn\n",
      "scarf fuchsia\n",
      "scarf cerise\n",
      "scarf aqua\n",
      "scarf maple\n",
      "scarf gunmetal blue\n",
      "stole burnt sienna\n",
      "stole Dark Sapphire\n",
      "stole auburn\n",
      "stole fuchsia\n",
      "stole cerise\n",
      "stole aqua\n",
      "stole maple\n",
      "stole gunmetal blue\n"
     ]
    }
   ],
   "source": [
    "couture = [\"trousers\", \"blouse\", \"bandana\", \"cumber band\", \"blazer\", \"vest\", \"french beret\", \"scarf\", \"stole\"] \n",
    "panettone = {\"cerise\", \"fuchsia\", \"aqua\", \"maple\", \"auburn\", \"burnt sienna\", \"gunmetal blue\", \"Dark Sapphire\"}\n",
    "\n",
    "for c in couture:\n",
    "    for p in panettone:\n",
    "        print(c,p)\n",
    "        \n",
    "\n"
   ]
  },
  {
   "cell_type": "markdown",
   "id": "78bc6a3f-7956-4d51-bc08-623f3285794b",
   "metadata": {},
   "source": [
    "### 5. Use range as a loop to calculate the sum of all the numbers from 1 to 100"
   ]
  },
  {
   "cell_type": "code",
   "execution_count": 93,
   "id": "485a5e7f-f372-4a9a-9ccb-560672147bc1",
   "metadata": {},
   "outputs": [
    {
     "name": "stdout",
     "output_type": "stream",
     "text": [
      "0 1 3 6 10 15 21 28 36 45 55 66 78 91 105 120 136 153 171 190 210 231 253 276 300 325 351 378 406 435 465 496 528 561 595 630 666 703 741 780 820 861 903 946 990 1035 1081 1128 1176 1225 1275 1326 1378 1431 1485 1540 1596 1653 1711 1770 1830 1891 1953 2016 2080 2145 2211 2278 2346 2415 2485 2556 2628 2701 2775 2850 2926 3003 3081 3160 3240 3321 3403 3486 3570 3655 3741 3828 3916 4005 4095 4186 4278 4371 4465 4560 4656 4753 4851 4950 5050 \n",
      "\n",
      " 5050 "
     ]
    }
   ],
   "source": [
    "x = range(0,101)\n",
    "c = 0\n",
    "\n",
    "\n",
    "for i in x:\n",
    "    c+=i\n",
    "    print(c, end = ' ')\n",
    "print('')\n",
    "print('\\n',c, end= ' ',  )"
   ]
  },
  {
   "cell_type": "markdown",
   "id": "fea0035b-b429-40d1-8b01-59f95db56f32",
   "metadata": {},
   "source": [
    "### 6. Print the second item in this fruits list. [\"apple\", \"banana\", \"cherry\"]"
   ]
  },
  {
   "cell_type": "code",
   "execution_count": 131,
   "id": "ef08dbd2-d50f-40b0-90c0-df2c38050800",
   "metadata": {},
   "outputs": [
    {
     "name": "stdout",
     "output_type": "stream",
     "text": [
      "banana\n"
     ]
    }
   ],
   "source": [
    "fruits6 = [\"apple\", \"banana\", \"cherry\"]\n",
    "\n",
    "print(fruits6[1])\n"
   ]
  },
  {
   "cell_type": "markdown",
   "id": "9d1838b6-14a6-425a-a580-595e26210431",
   "metadata": {},
   "source": [
    "### 7. Change the value from \"apple\" to \"kiwi\", in the fruits list. [\"apple\", \"banana\", \"cherry]"
   ]
  },
  {
   "cell_type": "code",
   "execution_count": 185,
   "id": "b56276ad-6f22-4452-866a-226aa0094c71",
   "metadata": {},
   "outputs": [
    {
     "name": "stdout",
     "output_type": "stream",
     "text": [
      "['kiwi', 'banana', 'cherry']\n"
     ]
    }
   ],
   "source": [
    "fruits7 = [\"apple\", \"banana\", \"cherry\"]\n",
    "\n",
    "fruits7[0] = \"kiwi\"\n",
    "\n",
    "print(fruits7)\n",
    "\n"
   ]
  },
  {
   "cell_type": "markdown",
   "id": "8c496d41-2f3e-46e7-9caf-615d93eb27fc",
   "metadata": {},
   "source": [
    "### 8. Use the append method to add \"orange\" to the fruits list. [\"apple\", \"banana\", \"cherry\"]"
   ]
  },
  {
   "cell_type": "code",
   "execution_count": 33,
   "id": "f73ba5d4-ae77-4acd-8e40-29199a4461d1",
   "metadata": {},
   "outputs": [
    {
     "name": "stdout",
     "output_type": "stream",
     "text": [
      "['apple', 'banana', 'cherry', 'orange']\n"
     ]
    }
   ],
   "source": [
    "fruits8 = [\"apple\", \"banana\", \"cherry\"]\n",
    "\n",
    "fruits8.append(\"orange\")\n",
    "print(fruits8)"
   ]
  },
  {
   "cell_type": "markdown",
   "id": "807041b1-3b05-4385-8a65-60e2419df32c",
   "metadata": {},
   "source": [
    "### 9. Use the insert method to add \"lemon\" as the second item in the fruits list. [\"apple\", \"banana\", \"cherry\"]"
   ]
  },
  {
   "cell_type": "code",
   "execution_count": 127,
   "id": "409abd2d-bb06-4770-80fd-4b74174dd33e",
   "metadata": {},
   "outputs": [
    {
     "name": "stdout",
     "output_type": "stream",
     "text": [
      "['apple', 'lemon', 'banana', 'cherry']\n"
     ]
    }
   ],
   "source": [
    "fruits9 = [\"apple\", \"banana\", \"cherry\"]\n",
    "\n",
    "fruits9.insert(1, \"lemon\")\n",
    "\n",
    "print(fruits9)"
   ]
  },
  {
   "cell_type": "markdown",
   "id": "40a1fbf0-4162-4c63-b0d3-ef3da5c66f0a",
   "metadata": {},
   "source": [
    "### 10. Use the remove method to remove \"banana\" from the fruits list. [\"apple\", \"banana\", \"cherry\"] "
   ]
  },
  {
   "cell_type": "code",
   "execution_count": 39,
   "id": "23adc18c-c192-4dc4-8d4c-6563bd26a604",
   "metadata": {},
   "outputs": [
    {
     "name": "stdout",
     "output_type": "stream",
     "text": [
      "['apple', 'cherry']\n"
     ]
    }
   ],
   "source": [
    "fruits10 =  [\"apple\", \"banana\", \"cherry\"]\n",
    "\n",
    "fruits10.remove(\"banana\")\n",
    "\n",
    "print(fruits10)"
   ]
  },
  {
   "cell_type": "markdown",
   "id": "cd2e0f0f-34f8-48c6-978e-a9704edca421",
   "metadata": {},
   "source": [
    "### 11. Use negative indexing to print the 3rd and 2nd to last items in the list. [\"apple\", \"banana\", \"cherry\", \"orange\", \"kiwi\", \"melon\", \"mango\"]"
   ]
  },
  {
   "cell_type": "code",
   "execution_count": 175,
   "id": "158700c8-23b2-4211-82c1-53dbe83ebcea",
   "metadata": {},
   "outputs": [
    {
     "name": "stdout",
     "output_type": "stream",
     "text": [
      "['kiwi', 'melon']\n"
     ]
    }
   ],
   "source": [
    "fruits11 = [\"apple\", \"banana\", \"cherry\", \"orange\", \"kiwi\", \"melon\", \"mango\"]\n",
    "\n",
    "fruits11[-3:-1]\n",
    "\n",
    "print(fruits11[-3:-1])"
   ]
  },
  {
   "cell_type": "markdown",
   "id": "66cfcfd2-83fe-4abf-b5d1-cc6c4afc150c",
   "metadata": {},
   "source": [
    "### 12. Use a range of indexes to print the third, fourth, and fifth item in the list. [\"apple\", \"banana\", \"cherry\", \"orange\", \"kiwi\", \"melon\", \"mango\"]"
   ]
  },
  {
   "cell_type": "code",
   "execution_count": 173,
   "id": "332685dc-fc28-4fee-9615-d98a05f455fc",
   "metadata": {},
   "outputs": [
    {
     "name": "stdout",
     "output_type": "stream",
     "text": [
      "['cherry', 'orange', 'kiwi']\n"
     ]
    }
   ],
   "source": [
    "fruits12 = [\"apple\", \"banana\", \"cherry\", \"orange\", \"kiwi\", \"melon\", \"mango\"]\n",
    "\n",
    "\n",
    "print(fruits12[2:5])\n"
   ]
  },
  {
   "cell_type": "markdown",
   "id": "513d44f9-3dc9-46cc-a151-6506516771c5",
   "metadata": {},
   "source": [
    "### 13. Use the correct syntax to print the number of items in the list. [\"apple\", \"banana\", \"cherry\", \"orange\", \"kiwi\", \"melon\", \"mango\"]"
   ]
  },
  {
   "cell_type": "code",
   "execution_count": 80,
   "id": "d1ebf887-3bb6-4213-b58b-07b91b5ea82c",
   "metadata": {},
   "outputs": [
    {
     "name": "stdout",
     "output_type": "stream",
     "text": [
      "7\n"
     ]
    }
   ],
   "source": [
    "fruits13 = [\"apple\", \"banana\", \"cherry\", \"orange\", \"kiwi\", \"melon\", \"mango\"]\n",
    "\n",
    "len(fruits13)\n",
    "\n",
    "print(len(fruits13))"
   ]
  },
  {
   "cell_type": "markdown",
   "id": "501996da-fc70-4ee8-ab6f-cedb1c2b4bde",
   "metadata": {},
   "source": [
    "### 14. Use the correct syntax to sort this list in reverse order [\"apple\", \"banana\", \"cherry\", \"orange\", \"kiwi\", \"melon\", \"mango\"]"
   ]
  },
  {
   "cell_type": "code",
   "execution_count": 104,
   "id": "ed6f5482-e2af-4edf-8b63-df4d48b4f031",
   "metadata": {},
   "outputs": [
    {
     "name": "stdout",
     "output_type": "stream",
     "text": [
      "['mango', 'melon', 'kiwi', 'orange', 'cherry', 'banana', 'apple']\n"
     ]
    }
   ],
   "source": [
    "fruits14 = [\"apple\", \"banana\", \"cherry\", \"orange\", \"kiwi\", \"melon\", \"mango\"]\n",
    "\n",
    "\n",
    "fruits14.reverse()\n",
    "\n",
    "print(fruits14)\n",
    "\n",
    "#print(fruits14.reverse()) #this prints out None because you're printing the results of the reverse method, kind of cool"
   ]
  },
  {
   "cell_type": "markdown",
   "id": "5557f473-7fc8-49a9-af0f-0954bdc29077",
   "metadata": {},
   "source": []
  },
  {
   "cell_type": "code",
   "execution_count": 162,
   "id": "9e105427-6f60-4a8c-abed-d7e654ed0171",
   "metadata": {},
   "outputs": [
    {
     "name": "stdout",
     "output_type": "stream",
     "text": [
      "6\n"
     ]
    }
   ],
   "source": [
    "def myfunc(arg1,arg2):\n",
    "    arg1 = 2\n",
    "    arg2 = 4\n",
    "    print(arg1+arg2)\n",
    "\n",
    "myfunc('HEY','HEY')"
   ]
  },
  {
   "cell_type": "code",
   "execution_count": null,
   "id": "de9299e9-e5a8-4bca-929b-cf1d9649776e",
   "metadata": {},
   "outputs": [],
   "source": []
  }
 ],
 "metadata": {
  "kernelspec": {
   "display_name": "anaconda-panel-2023.05-py310",
   "language": "python",
   "name": "conda-env-anaconda-panel-2023.05-py310-py"
  },
  "language_info": {
   "codemirror_mode": {
    "name": "ipython",
    "version": 3
   },
   "file_extension": ".py",
   "mimetype": "text/x-python",
   "name": "python",
   "nbconvert_exporter": "python",
   "pygments_lexer": "ipython3",
   "version": "3.11.5"
  }
 },
 "nbformat": 4,
 "nbformat_minor": 5
}
