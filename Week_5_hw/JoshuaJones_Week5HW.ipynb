{
 "cells": [
  {
   "cell_type": "markdown",
   "id": "786ef7e4-8cf3-4326-a505-564bc9afe873",
   "metadata": {},
   "source": [
    "## Joshua Jones week 5 homework"
   ]
  },
  {
   "cell_type": "markdown",
   "id": "3ace7f47-95a5-4eea-9cdf-bece25537a16",
   "metadata": {},
   "source": [
    "#### 7. Import NumPy, use one of the NumPy methods and create an array with a shape of (2, 3, 2). You can use the reshape method -- .reshape()"
   ]
  },
  {
   "cell_type": "code",
   "execution_count": 2,
   "id": "97a8649c-8a52-4325-af47-ce8820047436",
   "metadata": {},
   "outputs": [],
   "source": [
    "import numpy as np\n",
    "import pandas as pd\n",
    "import copy as cp\n"
   ]
  },
  {
   "cell_type": "code",
   "execution_count": 9,
   "id": "2aad8a5f-6b82-4e8d-a319-4d8affabc837",
   "metadata": {},
   "outputs": [
    {
     "name": "stdout",
     "output_type": "stream",
     "text": [
      "(2, 3, 2)\n",
      "[[[ 1  2]\n",
      "  [ 3  4]\n",
      "  [ 5  6]]\n",
      "\n",
      " [[ 7  8]\n",
      "  [ 9 10]\n",
      "  [11 12]]]\n"
     ]
    }
   ],
   "source": [
    "myarray  = np.array([[[1,2], [3,4], [5,6]],\n",
    "                    [[7,8], [9,10], [11, 12]]])\n",
    "print(myarray.shape)\n",
    "print(myarray)"
   ]
  },
  {
   "cell_type": "markdown",
   "id": "b39404e5-04fa-4ac3-a444-961d97b9ebb9",
   "metadata": {},
   "source": [
    "#### 8. Use NumPy .linspace() to create an array with 6 linearly spaced values between 0 and 20"
   ]
  },
  {
   "cell_type": "code",
   "execution_count": 10,
   "id": "518b652e-3963-4068-8bc7-84261ee6e11d",
   "metadata": {},
   "outputs": [
    {
     "name": "stdout",
     "output_type": "stream",
     "text": [
      "[ 0.  4.  8. 12. 16. 20.]\n"
     ]
    }
   ],
   "source": [
    "myarray1 = np.linspace(0,20,6)\n",
    "print(myarray1)"
   ]
  },
  {
   "cell_type": "markdown",
   "id": "0f095500-0c02-4e27-a376-07c9e1c4c027",
   "metadata": {},
   "source": [
    "#### 9. Make a Deep Copy of the above array"
   ]
  },
  {
   "cell_type": "code",
   "execution_count": 11,
   "id": "7d3f5d71-0694-4d3a-a1da-70e91ecbc987",
   "metadata": {},
   "outputs": [
    {
     "name": "stdout",
     "output_type": "stream",
     "text": [
      "[ 0.  4.  8. 12. 16. 20.]\n"
     ]
    }
   ],
   "source": [
    "#myarray1_copy = cp.deepcopy(myarray1[0]) #apparently this code made a deepcopy of my first number only, gonna comment out and rereun\n",
    "myarray1_copy = cp.deepcopy(myarray1) \n",
    "\n",
    "print(myarray1_copy)"
   ]
  },
  {
   "cell_type": "markdown",
   "id": "1e0110f6-830f-4862-8b39-709f498452e2",
   "metadata": {},
   "source": [
    "#### 10. Concatenate these 3 arrays into a new array named 'newArray'...\n",
    "\n",
    "        ([[25, 16]])\n",
    "        ([[11, 2], [13, 4]])\n",
    "        ([[7, 81], [5, 6], [11, 12]])\n"
   ]
  },
  {
   "cell_type": "code",
   "execution_count": 12,
   "id": "916dc2b4-51f1-4378-ad8e-d75fb400ecc0",
   "metadata": {},
   "outputs": [
    {
     "name": "stdout",
     "output_type": "stream",
     "text": [
      "(1, 2)\n",
      "(2, 2)\n",
      "(3, 2)\n",
      "\n",
      "[25 16 11  2 13  4  7 81  5  6 11 12]\n",
      "\n",
      "[[25 16]\n",
      " [11  2]\n",
      " [13  4]\n",
      " [ 7 81]\n",
      " [ 5  6]\n",
      " [11 12]]\n"
     ]
    }
   ],
   "source": [
    "myarray2 = np.array([ [25, 16] ] )\n",
    "myarray3 = np.array([[11, 2], [13, 4]])\n",
    "myarray4 = np.array([[7, 81], [5, 6], [11, 12]])\n",
    "\n",
    "print(myarray2.shape)\n",
    "print(myarray3.shape)\n",
    "print(myarray4.shape)\n",
    "print()\n",
    "\n",
    "newArrayflat = np.concatenate((myarray2,myarray3,myarray4),axis=None)\n",
    "print(newArrayflat)\n",
    "print()\n",
    "\n",
    "newArray = np.concatenate((myarray2,myarray3,myarray4),axis=0)\n",
    "print(newArray)"
   ]
  },
  {
   "cell_type": "markdown",
   "id": "7832bcf5-b991-4ce3-a54a-e5a227f88cc1",
   "metadata": {},
   "source": [
    "#### 11. Sort 'newArray' in order into 'sortedArray'"
   ]
  },
  {
   "cell_type": "code",
   "execution_count": 13,
   "id": "2530ff3a-65dc-47f8-a305-e311245391b2",
   "metadata": {},
   "outputs": [
    {
     "name": "stdout",
     "output_type": "stream",
     "text": [
      "[[16 25]\n",
      " [ 2 11]\n",
      " [ 4 13]\n",
      " [ 7 81]\n",
      " [ 5  6]\n",
      " [11 12]]\n"
     ]
    }
   ],
   "source": [
    "#print(newArray)\n",
    "#print()\n",
    "\n",
    "#newArray.sort(axis =0)\n",
    "#print(newArray)\n",
    "#print()\n",
    "\n",
    "#sortedArray =newArray.sort(axis = 1)\n",
    "#print(sortedArray)\n",
    "\n",
    "sortedArray = np.sort(newArray, axis = 1)\n",
    "print(sortedArray)"
   ]
  },
  {
   "cell_type": "markdown",
   "id": "b17aad23-57ff-436b-af42-5576aec11f64",
   "metadata": {},
   "source": [
    "#### 12. Unpack the array tuples from the above 'reshapedArray' into 4 well named variables. Print the 4 variables."
   ]
  },
  {
   "cell_type": "code",
   "execution_count": 14,
   "id": "c30e8b1c-81a9-4f75-8033-9f66db635e91",
   "metadata": {},
   "outputs": [
    {
     "data": {
      "text/plain": [
       "array([[[ 1],\n",
       "        [ 2],\n",
       "        [ 3]],\n",
       "\n",
       "       [[ 4],\n",
       "        [ 5],\n",
       "        [ 6]],\n",
       "\n",
       "       [[ 7],\n",
       "        [ 8],\n",
       "        [ 9]],\n",
       "\n",
       "       [[10],\n",
       "        [11],\n",
       "        [12]]])"
      ]
     },
     "execution_count": 14,
     "metadata": {},
     "output_type": "execute_result"
    }
   ],
   "source": [
    "testarray = myarray.reshape(4,3,1)\n",
    "testarray\n"
   ]
  },
  {
   "cell_type": "code",
   "execution_count": 16,
   "id": "0d058218",
   "metadata": {},
   "outputs": [
    {
     "name": "stdout",
     "output_type": "stream",
     "text": [
      "var1: [[1]\n",
      " [2]\n",
      " [3]]\n",
      "var2: [[4]\n",
      " [5]\n",
      " [6]]\n",
      "var3: [[7]\n",
      " [8]\n",
      " [9]]\n",
      "var4: [[10]\n",
      " [11]\n",
      " [12]]\n"
     ]
    }
   ],
   "source": [
    "var1,var2,var3,var4 = testarray\n",
    "\n",
    "print('var1:', var1)\n",
    "print('var2:', var2)\n",
    "print('var3:', var3)\n",
    "print('var4:', var4)"
   ]
  },
  {
   "cell_type": "markdown",
   "id": "f04747db-7a57-4f50-92b0-b6177ee4ca3a",
   "metadata": {},
   "source": [
    "#### 13. Combined and sort the following arrays into one called 'comboArray' ...\n",
    "- one = ([10, 11, 12, 13, 14, 15, 16, 17])\n",
    "- two = ([20, 21, 22, 23, 24, 25, 26, 27])\n",
    "- three = ([ 0, 1, 2, 3, 4, 5, 6, 7])\n",
    "\n"
   ]
  },
  {
   "cell_type": "code",
   "execution_count": 250,
   "id": "ca538ade-f45c-4a53-a53c-648290e2b07d",
   "metadata": {},
   "outputs": [
    {
     "name": "stdout",
     "output_type": "stream",
     "text": [
      "(8,)\n",
      "(8,)\n",
      "(8,)\n",
      "\n",
      "[10 11 12 13 14 15 16 17 20 21 22 23 24 25 26 27  0  1  2  3  4  5  6  7]\n"
     ]
    },
    {
     "data": {
      "text/plain": [
       "array([10, 11, 12, 13, 14, 15, 16, 17, 20, 21, 22, 23, 24, 25, 26, 27,  0,\n",
       "        1,  2,  3,  4,  5,  6,  7])"
      ]
     },
     "execution_count": 250,
     "metadata": {},
     "output_type": "execute_result"
    }
   ],
   "source": [
    "jarray1= np.array([10, 11, 12, 13, 14, 15, 16, 17])\n",
    "jarray2= np.array([20, 21, 22, 23, 24, 25, 26, 27])\n",
    "jarray3= np.array([ 0, 1, 2, 3, 4, 5, 6, 7])\n",
    "\n",
    "print(jarray1.shape)\n",
    "print(jarray2.shape)\n",
    "print(jarray3.shape)\n",
    "print()\n",
    "\n",
    "comboArray = np.concatenate((jarray1,jarray2,jarray3), axis = 0)\n",
    "print(comboArray)\n",
    "\n",
    "comboArray = np.concatenate((jarray1,jarray2,jarray3), axis = None)\n",
    "comboArray"
   ]
  },
  {
   "cell_type": "markdown",
   "id": "53095074-57f8-447e-b924-27a624c5b274",
   "metadata": {},
   "source": [
    "#### 14. Take 'comboArray' and perform the following slicing activities:\n",
    "\n",
    "- print sec1 - the 2nd element\n",
    "- print sec2 - all elements from the 3rd element to the last\n",
    "- print sec3 - all elements from the 4th to the 14th elements\n",
    "- print sec4 - the last 6 elements\n",
    "- print sec5 - all element from #0 up to and including #15, using the negative number method, i.e. taking a section from the end.\n",
    "- print sec6 - from #20 every even element to the end\n",
    "- print sec7 - from the last element moving forward, every 5th element."
   ]
  },
  {
   "cell_type": "code",
   "execution_count": 382,
   "id": "89328273-0664-4e27-8b06-39bc0a580375",
   "metadata": {},
   "outputs": [
    {
     "name": "stdout",
     "output_type": "stream",
     "text": [
      "sec1 - the 2nd element\n",
      "11 \n",
      "\n",
      "sec2 - all elements from the 3rd element to the last\n",
      "[12 13 14 15 16 17 20 21 22 23 24 25 26 27  0  1  2  3  4  5  6  7] \n",
      "\n",
      "sec3 - all elements from the 4th to the 14th elements\n",
      "[13 14 15 16 17 20 21 22 23 24 25 26] \n",
      "\n",
      "sec4 - the last 6 elements\n",
      "[2 3 4 5 6 7] \n",
      "\n",
      "sec4 - all element from #0 up to and including #15, using the negative number method, i.e. taking a section from the end.\n",
      "[10 11 12 13 14 15 16 17 20 21 22 23 24 25 26] \n",
      "\n",
      "sec6 - from #20 every even element to the end\n",
      "[4 6] \n",
      "\n",
      "sec7 - from the last element moving forward, every 5th element.\n",
      "[ 7  2 25 20 13] \n",
      "\n"
     ]
    }
   ],
   "source": [
    "print('sec1 - the 2nd element')\n",
    "print(comboArray[1], '\\n')\n",
    "print('sec2 - all elements from the 3rd element to the last')\n",
    "print(comboArray[2:], '\\n')\n",
    "print('sec3 - all elements from the 4th to the 14th elements')\n",
    "print(comboArray[3:15], '\\n')\n",
    "print('sec4 - the last 6 elements')\n",
    "print(comboArray[-6:], '\\n')\n",
    "#print(comboArray.size, '\\n')\n",
    "print('sec4 - all element from #0 up to and including #15, using the negative number method, i.e. taking a section from the end.')\n",
    "print(comboArray[-24:-9], '\\n')\n",
    "print('sec6 - from #20 every even element to the end')\n",
    "print(comboArray[20:24:2], '\\n')\n",
    "print('sec7 - from the last element moving forward, every 5th element.')\n",
    "print(comboArray[-1:-24:-5], '\\n')\n",
    "\n",
    "\n",
    "\n",
    "#print(np.where(comboArray == 0)), couldn't figure this code out"
   ]
  },
  {
   "cell_type": "markdown",
   "id": "d6625af9-300b-49c7-beeb-8ca34b536105",
   "metadata": {},
   "source": [
    "#### 15. Using Series, create a DataFrame that looks like this:\n",
    "\n",
    "\n",
    "\n",
    "| Ingredients |\tQuantity |\tUnit|\n",
    "|-------------|----------|------|\n",
    "| Flour\t      | 4\t     | cups |\n",
    "| Milk\t      | 1\t     | cup  | \n",
    "| Eggs\t      | 2\t     | large|\n",
    "| Spam\t      | 1\t     | can  |"
   ]
  },
  {
   "cell_type": "code",
   "execution_count": 5,
   "id": "e3b5872a-d5a8-4101-9641-0430ad03abd4",
   "metadata": {},
   "outputs": [],
   "source": [
    "import pandas as pd"
   ]
  },
  {
   "cell_type": "code",
   "execution_count": 15,
   "id": "042fff1a-d1a6-4ea8-a694-929b335a2244",
   "metadata": {},
   "outputs": [
    {
     "data": {
      "text/html": [
       "<div>\n",
       "<style scoped>\n",
       "    .dataframe tbody tr th:only-of-type {\n",
       "        vertical-align: middle;\n",
       "    }\n",
       "\n",
       "    .dataframe tbody tr th {\n",
       "        vertical-align: top;\n",
       "    }\n",
       "\n",
       "    .dataframe thead th {\n",
       "        text-align: right;\n",
       "    }\n",
       "</style>\n",
       "<table border=\"1\" class=\"dataframe\">\n",
       "  <thead>\n",
       "    <tr style=\"text-align: right;\">\n",
       "      <th></th>\n",
       "      <th>Ingredients</th>\n",
       "      <th>Quantity</th>\n",
       "      <th>Unit</th>\n",
       "    </tr>\n",
       "  </thead>\n",
       "  <tbody>\n",
       "    <tr>\n",
       "      <th>0</th>\n",
       "      <td>Flour</td>\n",
       "      <td>4</td>\n",
       "      <td>cups</td>\n",
       "    </tr>\n",
       "    <tr>\n",
       "      <th>1</th>\n",
       "      <td>Milk</td>\n",
       "      <td>1</td>\n",
       "      <td>cup</td>\n",
       "    </tr>\n",
       "    <tr>\n",
       "      <th>2</th>\n",
       "      <td>Eggs</td>\n",
       "      <td>2</td>\n",
       "      <td>large</td>\n",
       "    </tr>\n",
       "    <tr>\n",
       "      <th>3</th>\n",
       "      <td>Spam</td>\n",
       "      <td>1</td>\n",
       "      <td>can</td>\n",
       "    </tr>\n",
       "  </tbody>\n",
       "</table>\n",
       "</div>"
      ],
      "text/plain": [
       "  Ingredients  Quantity   Unit\n",
       "0       Flour         4   cups\n",
       "1        Milk         1    cup\n",
       "2        Eggs         2  large\n",
       "3        Spam         1    can"
      ]
     },
     "execution_count": 15,
     "metadata": {},
     "output_type": "execute_result"
    }
   ],
   "source": [
    "Ingredients = pd.Series(['Flour', 'Milk', 'Eggs', 'Spam'], name ='Ingredients')\n",
    "Quantity = pd.Series([4,1,2,1], name='Quantity')\n",
    "Units = pd.Series(['cups','cup','large','can'], name='Unit')\n",
    "df = pd.concat([Ingredients,Quantity,Units], axis=1)\n",
    "df\n"
   ]
  },
  {
   "cell_type": "markdown",
   "id": "173c2b71-0f76-47a1-896b-fc91a7d53ea2",
   "metadata": {},
   "source": [
    "#### 16. Take this data and create a DataFrame named studentData\n",
    "\n",
    "    {'Name': ['Jai', 'janusha', 'Gaurav', 'Anuj'],\n",
    "        'Height': [5.1, 6.2, 5.1, 5.2],\n",
    "        'Qualification': ['Msc', 'MA', 'Msc', 'Msc'],\n",
    "        'address': ['Delhi', 'Doha', 'Chennai', 'Dakhar'],\n",
    "        'Age': [21, 23, 24, 21],\n",
    "        'Pets': ['Dog', 'Bunny', 'Chinchilla', 'Parrot'],\n",
    "        'sport': ['Darts', 'Basketball', 'PaddleBoarding', 'Cricket']\n",
    "    }"
   ]
  },
  {
   "cell_type": "code",
   "execution_count": 28,
   "id": "e89c30fe-bb75-4091-af30-6a530cc14943",
   "metadata": {},
   "outputs": [
    {
     "data": {
      "text/html": [
       "<div>\n",
       "<style scoped>\n",
       "    .dataframe tbody tr th:only-of-type {\n",
       "        vertical-align: middle;\n",
       "    }\n",
       "\n",
       "    .dataframe tbody tr th {\n",
       "        vertical-align: top;\n",
       "    }\n",
       "\n",
       "    .dataframe thead th {\n",
       "        text-align: right;\n",
       "    }\n",
       "</style>\n",
       "<table border=\"1\" class=\"dataframe\">\n",
       "  <thead>\n",
       "    <tr style=\"text-align: right;\">\n",
       "      <th></th>\n",
       "      <th>Name</th>\n",
       "      <th>Height</th>\n",
       "      <th>Qualification</th>\n",
       "      <th>Address</th>\n",
       "      <th>Age</th>\n",
       "      <th>Pets</th>\n",
       "      <th>Sport</th>\n",
       "    </tr>\n",
       "  </thead>\n",
       "  <tbody>\n",
       "    <tr>\n",
       "      <th>0</th>\n",
       "      <td>Jai</td>\n",
       "      <td>5.1</td>\n",
       "      <td>Msc</td>\n",
       "      <td>Delhi</td>\n",
       "      <td>21</td>\n",
       "      <td>Dog</td>\n",
       "      <td>Darts</td>\n",
       "    </tr>\n",
       "    <tr>\n",
       "      <th>1</th>\n",
       "      <td>janusha</td>\n",
       "      <td>6.2</td>\n",
       "      <td>MA</td>\n",
       "      <td>Doha</td>\n",
       "      <td>23</td>\n",
       "      <td>Bunny</td>\n",
       "      <td>Basketball</td>\n",
       "    </tr>\n",
       "    <tr>\n",
       "      <th>2</th>\n",
       "      <td>Gaurav</td>\n",
       "      <td>5.1</td>\n",
       "      <td>Msc</td>\n",
       "      <td>Chennai</td>\n",
       "      <td>24</td>\n",
       "      <td>Chinchilla</td>\n",
       "      <td>PaddleBoarding</td>\n",
       "    </tr>\n",
       "    <tr>\n",
       "      <th>3</th>\n",
       "      <td>Anuj</td>\n",
       "      <td>5.2</td>\n",
       "      <td>Msc</td>\n",
       "      <td>Dakhar</td>\n",
       "      <td>21</td>\n",
       "      <td>Parrot</td>\n",
       "      <td>Cricket</td>\n",
       "    </tr>\n",
       "  </tbody>\n",
       "</table>\n",
       "</div>"
      ],
      "text/plain": [
       "      Name  Height Qualification  Address  Age        Pets           Sport\n",
       "0      Jai     5.1           Msc    Delhi   21         Dog           Darts\n",
       "1  janusha     6.2            MA     Doha   23       Bunny      Basketball\n",
       "2   Gaurav     5.1           Msc  Chennai   24  Chinchilla  PaddleBoarding\n",
       "3     Anuj     5.2           Msc   Dakhar   21      Parrot         Cricket"
      ]
     },
     "execution_count": 28,
     "metadata": {},
     "output_type": "execute_result"
    }
   ],
   "source": [
    "studentData = {'Name': ['Jai', 'janusha', 'Gaurav', 'Anuj'],\n",
    "    'Height': [5.1, 6.2, 5.1, 5.2],\n",
    "    'Qualification': ['Msc', 'MA', 'Msc', 'Msc'],\n",
    "    'Address': ['Delhi', 'Doha', 'Chennai', 'Dakhar'],\n",
    "    'Age': [21, 23, 24, 21],\n",
    "    'Pets': ['Dog', 'Bunny', 'Chinchilla', 'Parrot'],\n",
    "    'Sport': ['Darts', 'Basketball', 'PaddleBoarding', 'Cricket']\n",
    "}\n",
    "\n",
    "df = pd.DataFrame(studentData)\n",
    "df"
   ]
  },
  {
   "cell_type": "markdown",
   "id": "7d87c603-28e0-4062-9941-13520a840464",
   "metadata": {},
   "source": [
    "#### 17. Add a new column to the DataFrame with the following deserts: [\"ice cream\", \"Cashew Fudge\", \"waffels\", \"Carrot Halwa\"]"
   ]
  },
  {
   "cell_type": "code",
   "execution_count": null,
   "id": "55702f7c-1660-4ef3-b1bb-59944d0b55f5",
   "metadata": {
    "collapsed": true,
    "jupyter": {
     "outputs_hidden": true
    },
    "tags": []
   },
   "outputs": [],
   "source": [
    "desserts = ['ice cream','Cashew Fudge', 'waffels', 'Carrot Halwa']\n",
    "df.insert(7, 'desserts', desserts)\n"
   ]
  },
  {
   "cell_type": "code",
   "execution_count": 52,
   "id": "6d7cd8f0-4cd6-496d-8fe0-dea441ca619e",
   "metadata": {},
   "outputs": [
    {
     "data": {
      "text/html": [
       "<div>\n",
       "<style scoped>\n",
       "    .dataframe tbody tr th:only-of-type {\n",
       "        vertical-align: middle;\n",
       "    }\n",
       "\n",
       "    .dataframe tbody tr th {\n",
       "        vertical-align: top;\n",
       "    }\n",
       "\n",
       "    .dataframe thead th {\n",
       "        text-align: right;\n",
       "    }\n",
       "</style>\n",
       "<table border=\"1\" class=\"dataframe\">\n",
       "  <thead>\n",
       "    <tr style=\"text-align: right;\">\n",
       "      <th></th>\n",
       "      <th>Name</th>\n",
       "      <th>Height</th>\n",
       "      <th>Qualification</th>\n",
       "      <th>Address</th>\n",
       "      <th>Age</th>\n",
       "      <th>Pets</th>\n",
       "      <th>Sport</th>\n",
       "      <th>desserts</th>\n",
       "    </tr>\n",
       "  </thead>\n",
       "  <tbody>\n",
       "    <tr>\n",
       "      <th>0</th>\n",
       "      <td>Jai</td>\n",
       "      <td>5.1</td>\n",
       "      <td>Msc</td>\n",
       "      <td>Delhi</td>\n",
       "      <td>21</td>\n",
       "      <td>Dog</td>\n",
       "      <td>Darts</td>\n",
       "      <td>ice cream</td>\n",
       "    </tr>\n",
       "    <tr>\n",
       "      <th>1</th>\n",
       "      <td>janusha</td>\n",
       "      <td>6.2</td>\n",
       "      <td>MA</td>\n",
       "      <td>Doha</td>\n",
       "      <td>23</td>\n",
       "      <td>Bunny</td>\n",
       "      <td>Basketball</td>\n",
       "      <td>Cashew Fudge</td>\n",
       "    </tr>\n",
       "    <tr>\n",
       "      <th>2</th>\n",
       "      <td>Gaurav</td>\n",
       "      <td>5.1</td>\n",
       "      <td>Msc</td>\n",
       "      <td>Chennai</td>\n",
       "      <td>24</td>\n",
       "      <td>Chinchilla</td>\n",
       "      <td>PaddleBoarding</td>\n",
       "      <td>waffels</td>\n",
       "    </tr>\n",
       "    <tr>\n",
       "      <th>3</th>\n",
       "      <td>Anuj</td>\n",
       "      <td>5.2</td>\n",
       "      <td>Msc</td>\n",
       "      <td>Dakhar</td>\n",
       "      <td>21</td>\n",
       "      <td>Parrot</td>\n",
       "      <td>Cricket</td>\n",
       "      <td>Carrot Halwa</td>\n",
       "    </tr>\n",
       "  </tbody>\n",
       "</table>\n",
       "</div>"
      ],
      "text/plain": [
       "      Name  Height Qualification  Address  Age        Pets           Sport  \\\n",
       "0      Jai     5.1           Msc    Delhi   21         Dog           Darts   \n",
       "1  janusha     6.2            MA     Doha   23       Bunny      Basketball   \n",
       "2   Gaurav     5.1           Msc  Chennai   24  Chinchilla  PaddleBoarding   \n",
       "3     Anuj     5.2           Msc   Dakhar   21      Parrot         Cricket   \n",
       "\n",
       "       desserts  \n",
       "0     ice cream  \n",
       "1  Cashew Fudge  \n",
       "2       waffels  \n",
       "3  Carrot Halwa  "
      ]
     },
     "execution_count": 52,
     "metadata": {},
     "output_type": "execute_result"
    }
   ],
   "source": [
    "df"
   ]
  },
  {
   "cell_type": "markdown",
   "id": "a74b4744-2b8e-4a9c-bd02-5aa4ea82ca85",
   "metadata": {},
   "source": [
    "#### 18. Sort the 'studentData' DataFrame in Ascending order -- Sorting by column 'Name' and then \"address\"\n",
    "\n"
   ]
  },
  {
   "cell_type": "code",
   "execution_count": 61,
   "id": "8661d210-1bdc-4072-a524-c68522d0c5ae",
   "metadata": {},
   "outputs": [
    {
     "data": {
      "text/html": [
       "<div>\n",
       "<style scoped>\n",
       "    .dataframe tbody tr th:only-of-type {\n",
       "        vertical-align: middle;\n",
       "    }\n",
       "\n",
       "    .dataframe tbody tr th {\n",
       "        vertical-align: top;\n",
       "    }\n",
       "\n",
       "    .dataframe thead th {\n",
       "        text-align: right;\n",
       "    }\n",
       "</style>\n",
       "<table border=\"1\" class=\"dataframe\">\n",
       "  <thead>\n",
       "    <tr style=\"text-align: right;\">\n",
       "      <th></th>\n",
       "      <th>Name</th>\n",
       "      <th>Height</th>\n",
       "      <th>Qualification</th>\n",
       "      <th>Address</th>\n",
       "      <th>Age</th>\n",
       "      <th>Pets</th>\n",
       "      <th>Sport</th>\n",
       "      <th>desserts</th>\n",
       "    </tr>\n",
       "  </thead>\n",
       "  <tbody>\n",
       "    <tr>\n",
       "      <th>3</th>\n",
       "      <td>Anuj</td>\n",
       "      <td>5.2</td>\n",
       "      <td>Msc</td>\n",
       "      <td>Dakhar</td>\n",
       "      <td>21</td>\n",
       "      <td>Parrot</td>\n",
       "      <td>Cricket</td>\n",
       "      <td>Carrot Halwa</td>\n",
       "    </tr>\n",
       "    <tr>\n",
       "      <th>2</th>\n",
       "      <td>Gaurav</td>\n",
       "      <td>5.1</td>\n",
       "      <td>Msc</td>\n",
       "      <td>Chennai</td>\n",
       "      <td>24</td>\n",
       "      <td>Chinchilla</td>\n",
       "      <td>PaddleBoarding</td>\n",
       "      <td>waffels</td>\n",
       "    </tr>\n",
       "    <tr>\n",
       "      <th>0</th>\n",
       "      <td>Jai</td>\n",
       "      <td>5.1</td>\n",
       "      <td>Msc</td>\n",
       "      <td>Delhi</td>\n",
       "      <td>21</td>\n",
       "      <td>Dog</td>\n",
       "      <td>Darts</td>\n",
       "      <td>ice cream</td>\n",
       "    </tr>\n",
       "    <tr>\n",
       "      <th>1</th>\n",
       "      <td>janusha</td>\n",
       "      <td>6.2</td>\n",
       "      <td>MA</td>\n",
       "      <td>Doha</td>\n",
       "      <td>23</td>\n",
       "      <td>Bunny</td>\n",
       "      <td>Basketball</td>\n",
       "      <td>Cashew Fudge</td>\n",
       "    </tr>\n",
       "  </tbody>\n",
       "</table>\n",
       "</div>"
      ],
      "text/plain": [
       "      Name  Height Qualification  Address  Age        Pets           Sport  \\\n",
       "3     Anuj     5.2           Msc   Dakhar   21      Parrot         Cricket   \n",
       "2   Gaurav     5.1           Msc  Chennai   24  Chinchilla  PaddleBoarding   \n",
       "0      Jai     5.1           Msc    Delhi   21         Dog           Darts   \n",
       "1  janusha     6.2            MA     Doha   23       Bunny      Basketball   \n",
       "\n",
       "       desserts  \n",
       "3  Carrot Halwa  \n",
       "2       waffels  \n",
       "0     ice cream  \n",
       "1  Cashew Fudge  "
      ]
     },
     "execution_count": 61,
     "metadata": {},
     "output_type": "execute_result"
    }
   ],
   "source": [
    "df.sort_values(by = ['Name', 'Address'], ascending = True, inplace = True)\n",
    "df"
   ]
  },
  {
   "cell_type": "markdown",
   "id": "28e655f1-62c6-4f28-99f6-36c99a09c054",
   "metadata": {},
   "source": [
    "#### 19. Save this DataFrame here below to disc as a .CSV file with the name cows_and_goats.csv:\n",
    "\n",
    "    df = pd.DataFrame({'Cows': [12, 20], 'Goats': [22, 19]}, index=['Year 1', 'Year 2'])"
   ]
  },
  {
   "cell_type": "code",
   "execution_count": 5,
   "id": "59407f09",
   "metadata": {},
   "outputs": [],
   "source": [
    "from pathlib import Path"
   ]
  },
  {
   "cell_type": "code",
   "execution_count": 8,
   "id": "d89fece1-1d95-4729-afaa-a32e3c9bd7f2",
   "metadata": {},
   "outputs": [],
   "source": [
    "df1 = pd.DataFrame({'Cows': [12, 20], 'Goats': [22, 19]}, index=['Year 1', 'Year 2'])\n",
    "#df1.to_csv('cows_and_goats.csv') #sends to working folder\n",
    "\n",
    "filepath = Path(r'C:\\Users\\artif\\code\\SavvyCoders\\Activities\\cows_and_goats.csv') # I saw this in the docs and wanted to see if i could get it to work, it worked just fine\n",
    "df1.to_csv(filepath)"
   ]
  },
  {
   "cell_type": "markdown",
   "id": "8fbc8ddf-28c8-446d-83ea-f1c05b07d951",
   "metadata": {},
   "source": [
    "#### 20. (A) Using Pandas, make your own .CSV file with data on vegetables and save it. (B) Using Pandas, make a change to your CSV file, and save a copy with a different name."
   ]
  },
  {
   "cell_type": "code",
   "execution_count": 12,
   "id": "84abf1d7-416a-4a45-ab17-1b35f9f0bdfc",
   "metadata": {},
   "outputs": [],
   "source": [
    "vegetables = {'name': ['carrot', 'celery', 'corn', 'radish'],\n",
    "    'color': ['orange', 'green', 'yellow', 'white'],\n",
    "    'rootcrop': [True, False, False, True],\n",
    "    'weather_preference': ['both', 'cool', 'hot', 'cool'],\n",
    "    }\n",
    "\n",
    " \n",
    "df2 = pd.DataFrame(vegetables)\n",
    "df2.to_csv('vegetables.csv')\n",
    "\n"
   ]
  },
  {
   "cell_type": "code",
   "execution_count": 18,
   "id": "bb1737e2",
   "metadata": {},
   "outputs": [
    {
     "data": {
      "text/html": [
       "<div>\n",
       "<style scoped>\n",
       "    .dataframe tbody tr th:only-of-type {\n",
       "        vertical-align: middle;\n",
       "    }\n",
       "\n",
       "    .dataframe tbody tr th {\n",
       "        vertical-align: top;\n",
       "    }\n",
       "\n",
       "    .dataframe thead th {\n",
       "        text-align: right;\n",
       "    }\n",
       "</style>\n",
       "<table border=\"1\" class=\"dataframe\">\n",
       "  <thead>\n",
       "    <tr style=\"text-align: right;\">\n",
       "      <th></th>\n",
       "      <th>name</th>\n",
       "      <th>color</th>\n",
       "      <th>rootcrop</th>\n",
       "      <th>weather_preference</th>\n",
       "    </tr>\n",
       "  </thead>\n",
       "  <tbody>\n",
       "    <tr>\n",
       "      <th>0</th>\n",
       "      <td>carrot</td>\n",
       "      <td>orange</td>\n",
       "      <td>True</td>\n",
       "      <td>both</td>\n",
       "    </tr>\n",
       "    <tr>\n",
       "      <th>1</th>\n",
       "      <td>celery</td>\n",
       "      <td>green</td>\n",
       "      <td>False</td>\n",
       "      <td>cool</td>\n",
       "    </tr>\n",
       "    <tr>\n",
       "      <th>2</th>\n",
       "      <td>corn</td>\n",
       "      <td>yellow</td>\n",
       "      <td>False</td>\n",
       "      <td>hot</td>\n",
       "    </tr>\n",
       "    <tr>\n",
       "      <th>3</th>\n",
       "      <td>radish</td>\n",
       "      <td>white</td>\n",
       "      <td>True</td>\n",
       "      <td>cool</td>\n",
       "    </tr>\n",
       "  </tbody>\n",
       "</table>\n",
       "</div>"
      ],
      "text/plain": [
       "     name   color  rootcrop weather_preference\n",
       "0  carrot  orange      True               both\n",
       "1  celery   green     False               cool\n",
       "2    corn  yellow     False                hot\n",
       "3  radish   white      True               cool"
      ]
     },
     "execution_count": 18,
     "metadata": {},
     "output_type": "execute_result"
    }
   ],
   "source": [
    "df2"
   ]
  },
  {
   "cell_type": "code",
   "execution_count": 22,
   "id": "c33f1959",
   "metadata": {},
   "outputs": [
    {
     "data": {
      "text/html": [
       "<div>\n",
       "<style scoped>\n",
       "    .dataframe tbody tr th:only-of-type {\n",
       "        vertical-align: middle;\n",
       "    }\n",
       "\n",
       "    .dataframe tbody tr th {\n",
       "        vertical-align: top;\n",
       "    }\n",
       "\n",
       "    .dataframe thead th {\n",
       "        text-align: right;\n",
       "    }\n",
       "</style>\n",
       "<table border=\"1\" class=\"dataframe\">\n",
       "  <thead>\n",
       "    <tr style=\"text-align: right;\">\n",
       "      <th></th>\n",
       "      <th>Unnamed: 0</th>\n",
       "      <th>name</th>\n",
       "      <th>color</th>\n",
       "      <th>rootcrop</th>\n",
       "      <th>weather_preference</th>\n",
       "    </tr>\n",
       "  </thead>\n",
       "  <tbody>\n",
       "    <tr>\n",
       "      <th>0</th>\n",
       "      <td>0</td>\n",
       "      <td>carrot</td>\n",
       "      <td>orange</td>\n",
       "      <td>True</td>\n",
       "      <td>both</td>\n",
       "    </tr>\n",
       "    <tr>\n",
       "      <th>1</th>\n",
       "      <td>1</td>\n",
       "      <td>celery</td>\n",
       "      <td>green</td>\n",
       "      <td>False</td>\n",
       "      <td>cool</td>\n",
       "    </tr>\n",
       "    <tr>\n",
       "      <th>2</th>\n",
       "      <td>2</td>\n",
       "      <td>corn</td>\n",
       "      <td>yellow</td>\n",
       "      <td>False</td>\n",
       "      <td>hot</td>\n",
       "    </tr>\n",
       "    <tr>\n",
       "      <th>3</th>\n",
       "      <td>3</td>\n",
       "      <td>radish</td>\n",
       "      <td>white</td>\n",
       "      <td>True</td>\n",
       "      <td>cool</td>\n",
       "    </tr>\n",
       "  </tbody>\n",
       "</table>\n",
       "</div>"
      ],
      "text/plain": [
       "   Unnamed: 0    name   color  rootcrop weather_preference\n",
       "0           0  carrot  orange      True               both\n",
       "1           1  celery   green     False               cool\n",
       "2           2    corn  yellow     False                hot\n",
       "3           3  radish   white      True               cool"
      ]
     },
     "execution_count": 22,
     "metadata": {},
     "output_type": "execute_result"
    }
   ],
   "source": [
    "df3 = pd.read_csv('vegetables.csv')\n",
    "# print(titanic_data.head())\n",
    "\n",
    "\n",
    "df3"
   ]
  },
  {
   "cell_type": "code",
   "execution_count": 23,
   "id": "4b3554e2",
   "metadata": {},
   "outputs": [
    {
     "data": {
      "text/html": [
       "<div>\n",
       "<style scoped>\n",
       "    .dataframe tbody tr th:only-of-type {\n",
       "        vertical-align: middle;\n",
       "    }\n",
       "\n",
       "    .dataframe tbody tr th {\n",
       "        vertical-align: top;\n",
       "    }\n",
       "\n",
       "    .dataframe thead th {\n",
       "        text-align: right;\n",
       "    }\n",
       "</style>\n",
       "<table border=\"1\" class=\"dataframe\">\n",
       "  <thead>\n",
       "    <tr style=\"text-align: right;\">\n",
       "      <th></th>\n",
       "      <th>name</th>\n",
       "      <th>color</th>\n",
       "      <th>rootcrop</th>\n",
       "      <th>weather_preference</th>\n",
       "    </tr>\n",
       "  </thead>\n",
       "  <tbody>\n",
       "    <tr>\n",
       "      <th>0</th>\n",
       "      <td>carrot</td>\n",
       "      <td>orange</td>\n",
       "      <td>True</td>\n",
       "      <td>both</td>\n",
       "    </tr>\n",
       "    <tr>\n",
       "      <th>1</th>\n",
       "      <td>celery</td>\n",
       "      <td>green</td>\n",
       "      <td>False</td>\n",
       "      <td>cool</td>\n",
       "    </tr>\n",
       "    <tr>\n",
       "      <th>2</th>\n",
       "      <td>corn</td>\n",
       "      <td>yellow</td>\n",
       "      <td>False</td>\n",
       "      <td>hot</td>\n",
       "    </tr>\n",
       "    <tr>\n",
       "      <th>3</th>\n",
       "      <td>radish</td>\n",
       "      <td>white</td>\n",
       "      <td>True</td>\n",
       "      <td>cool</td>\n",
       "    </tr>\n",
       "  </tbody>\n",
       "</table>\n",
       "</div>"
      ],
      "text/plain": [
       "     name   color  rootcrop weather_preference\n",
       "0  carrot  orange      True               both\n",
       "1  celery   green     False               cool\n",
       "2    corn  yellow     False                hot\n",
       "3  radish   white      True               cool"
      ]
     },
     "execution_count": 23,
     "metadata": {},
     "output_type": "execute_result"
    }
   ],
   "source": [
    "df3.drop(['Unnamed: 0'],axis= 1, inplace= True)\n",
    "df3"
   ]
  },
  {
   "cell_type": "code",
   "execution_count": 25,
   "id": "73a1f1df",
   "metadata": {},
   "outputs": [
    {
     "data": {
      "text/html": [
       "<div>\n",
       "<style scoped>\n",
       "    .dataframe tbody tr th:only-of-type {\n",
       "        vertical-align: middle;\n",
       "    }\n",
       "\n",
       "    .dataframe tbody tr th {\n",
       "        vertical-align: top;\n",
       "    }\n",
       "\n",
       "    .dataframe thead th {\n",
       "        text-align: right;\n",
       "    }\n",
       "</style>\n",
       "<table border=\"1\" class=\"dataframe\">\n",
       "  <thead>\n",
       "    <tr style=\"text-align: right;\">\n",
       "      <th></th>\n",
       "      <th>name</th>\n",
       "      <th>color</th>\n",
       "      <th>rootcrop</th>\n",
       "      <th>weather_preference</th>\n",
       "    </tr>\n",
       "  </thead>\n",
       "  <tbody>\n",
       "    <tr>\n",
       "      <th>0</th>\n",
       "      <td>carrot</td>\n",
       "      <td>orange</td>\n",
       "      <td>True</td>\n",
       "      <td>both</td>\n",
       "    </tr>\n",
       "    <tr>\n",
       "      <th>1</th>\n",
       "      <td>celery</td>\n",
       "      <td>green</td>\n",
       "      <td>False</td>\n",
       "      <td>cool</td>\n",
       "    </tr>\n",
       "    <tr>\n",
       "      <th>2</th>\n",
       "      <td>corn</td>\n",
       "      <td>yellow</td>\n",
       "      <td>False</td>\n",
       "      <td>hot</td>\n",
       "    </tr>\n",
       "    <tr>\n",
       "      <th>3</th>\n",
       "      <td>radish</td>\n",
       "      <td>white</td>\n",
       "      <td>True</td>\n",
       "      <td>cool</td>\n",
       "    </tr>\n",
       "    <tr>\n",
       "      <th>4</th>\n",
       "      <td>spinach</td>\n",
       "      <td>green</td>\n",
       "      <td>False</td>\n",
       "      <td>cool</td>\n",
       "    </tr>\n",
       "  </tbody>\n",
       "</table>\n",
       "</div>"
      ],
      "text/plain": [
       "      name   color  rootcrop weather_preference\n",
       "0   carrot  orange      True               both\n",
       "1   celery   green     False               cool\n",
       "2     corn  yellow     False                hot\n",
       "3   radish   white      True               cool\n",
       "4  spinach   green     False               cool"
      ]
     },
     "execution_count": 25,
     "metadata": {},
     "output_type": "execute_result"
    }
   ],
   "source": [
    "new_row = {'name': 'spinach', 'color': 'green', 'rootcrop': False, 'weather_preference': 'cool'}\n",
    "df3.loc[len(df3)] = new_row\n",
    "df3"
   ]
  },
  {
   "cell_type": "code",
   "execution_count": 26,
   "id": "1f41d074",
   "metadata": {},
   "outputs": [],
   "source": [
    "df3.to_csv('vegetables2.csv', index=False )"
   ]
  },
  {
   "cell_type": "markdown",
   "id": "276fd53c-a41b-4f4a-ae1f-864fbd66327f",
   "metadata": {},
   "source": []
  },
  {
   "cell_type": "markdown",
   "id": "0c4589ed-8e1e-43ce-b553-22799209dbce",
   "metadata": {},
   "source": []
  }
 ],
 "metadata": {
  "kernelspec": {
   "display_name": "Python 3",
   "language": "python",
   "name": "python3"
  },
  "language_info": {
   "codemirror_mode": {
    "name": "ipython",
    "version": 3
   },
   "file_extension": ".py",
   "mimetype": "text/x-python",
   "name": "python",
   "nbconvert_exporter": "python",
   "pygments_lexer": "ipython3",
   "version": "3.11.5"
  }
 },
 "nbformat": 4,
 "nbformat_minor": 5
}
