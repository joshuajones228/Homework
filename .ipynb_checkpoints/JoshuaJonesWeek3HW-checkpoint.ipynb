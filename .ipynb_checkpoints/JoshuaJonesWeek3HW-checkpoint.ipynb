{
 "cells": [
  {
   "cell_type": "code",
   "execution_count": 1,
   "id": "5bc6cacc-eded-4a59-9ce3-cc2bee8b08dd",
   "metadata": {
    "tags": []
   },
   "outputs": [],
   "source": [
    " import datetime"
   ]
  },
  {
   "cell_type": "markdown",
   "id": "864264f8-7d44-44f0-8da4-cc21f48a406c",
   "metadata": {
    "tags": []
   },
   "source": [
    "### 6. Write a multi line comment with you name, favorite food, and dream job on 3 different lines"
   ]
  },
  {
   "cell_type": "code",
   "execution_count": 2,
   "id": "eeba07a9",
   "metadata": {},
   "outputs": [
    {
     "data": {
      "text/plain": [
       "'\\nMy name is Josh.\\nMy favorite food is pizza.\\nMy dream job is being a park ranger.\\n'"
      ]
     },
     "execution_count": 2,
     "metadata": {},
     "output_type": "execute_result"
    }
   ],
   "source": [
    "'''\n",
    "My name is Josh.\n",
    "My favorite food is pizza.\n",
    "My dream job is being a park ranger.\n",
    "'''"
   ]
  },
  {
   "cell_type": "markdown",
   "id": "fa7b9453-83c8-482b-9b77-031e79aee1cf",
   "metadata": {},
   "source": [
    "### 7. Assign 5 different data types to 5 different variables. at least one datatype must be a string."
   ]
  },
  {
   "cell_type": "code",
   "execution_count": 3,
   "id": "eddad45e-cbe9-4c10-9e6f-8bec5f08d7c6",
   "metadata": {
    "tags": []
   },
   "outputs": [],
   "source": [
    "mr_float = 30.5\n",
    "miss_integer = 30\n",
    "large_animal = 'Elephant'\n",
    "pizza_sucks =  False\n",
    "was_born = datetime.datetime(1988,3,21)"
   ]
  },
  {
   "cell_type": "markdown",
   "id": "c5b3a0ff-2ece-4690-bbbf-74c316db1263",
   "metadata": {},
   "source": [
    "testing vars"
   ]
  },
  {
   "cell_type": "code",
   "execution_count": 4,
   "id": "08c1c668-ae5a-4cf0-8996-bc7a27b8d08b",
   "metadata": {
    "tags": []
   },
   "outputs": [
    {
     "name": "stdout",
     "output_type": "stream",
     "text": [
      "1988-03-21 00:00:00\n",
      "does pizza suck? False\n",
      "what is an Elephant?\n",
      "I think 30.5 fell for 30. It is not always about what is after the decimal place :)\n"
     ]
    }
   ],
   "source": [
    "print(was_born)\n",
    "print(f'does pizza suck? {pizza_sucks}')\n",
    "print(f'what is an {large_animal}?')\n",
    "print(f'I think {mr_float} fell for {miss_integer}. It is not always about what is after the decimal place :)')\n"
   ]
  },
  {
   "cell_type": "markdown",
   "id": "31ab84ca-fa60-405c-bf44-edf73053aacd",
   "metadata": {},
   "source": [
    "#### -Print the length of your string"
   ]
  },
  {
   "cell_type": "code",
   "execution_count": 5,
   "id": "30b58204-c7ea-452c-9497-e7d201dc2df1",
   "metadata": {
    "tags": []
   },
   "outputs": [
    {
     "name": "stdout",
     "output_type": "stream",
     "text": [
      "8\n"
     ]
    }
   ],
   "source": [
    "print(len(large_animal))"
   ]
  },
  {
   "cell_type": "markdown",
   "id": "9714688d-5271-45b4-949b-81f7cfa41db9",
   "metadata": {},
   "source": [
    "#### -Print the index value of the 4th character in your string"
   ]
  },
  {
   "cell_type": "code",
   "execution_count": 6,
   "id": "d2fa7310-324c-4681-b07f-1c52bf83bf42",
   "metadata": {
    "tags": []
   },
   "outputs": [
    {
     "data": {
      "text/plain": [
       "'h'"
      ]
     },
     "execution_count": 6,
     "metadata": {},
     "output_type": "execute_result"
    }
   ],
   "source": [
    "large_animal[4]"
   ]
  },
  {
   "cell_type": "markdown",
   "id": "2470aa7e-e856-4c4a-9afc-b848a46b304d",
   "metadata": {},
   "source": [
    "### 8. Create a new variable called savvy, and assign it the string with this phrase \"Learning Data Analytics and Python is Awesome!\""
   ]
  },
  {
   "cell_type": "code",
   "execution_count": 7,
   "id": "415ffcae-0ee5-4acd-81bf-9fc48d4bb7ba",
   "metadata": {
    "tags": []
   },
   "outputs": [
    {
     "name": "stdout",
     "output_type": "stream",
     "text": [
      "Learning Data Analytics and Python is Awesome!\n"
     ]
    }
   ],
   "source": [
    "savvy= 'Learning Data Analytics and Python is Awesome!'\n",
    "print(savvy)"
   ]
  },
  {
   "cell_type": "markdown",
   "id": "22ccaeb6-2287-4722-b98e-82a4be86e19b",
   "metadata": {},
   "source": [
    "#### -Return a range of characters that slices the above string from the beginning of \"ing\" up to before \"and\""
   ]
  },
  {
   "cell_type": "code",
   "execution_count": 8,
   "id": "f866da54-32e7-4896-a3c9-7d01f54857ef",
   "metadata": {
    "tags": []
   },
   "outputs": [
    {
     "data": {
      "text/plain": [
       "5"
      ]
     },
     "execution_count": 8,
     "metadata": {},
     "output_type": "execute_result"
    }
   ],
   "source": [
    "savvy.index('i')"
   ]
  },
  {
   "cell_type": "code",
   "execution_count": 9,
   "id": "704ff7e1-9b97-4f55-b667-40c566e9b792",
   "metadata": {
    "tags": []
   },
   "outputs": [
    {
     "data": {
      "text/plain": [
       "26"
      ]
     },
     "execution_count": 9,
     "metadata": {},
     "output_type": "execute_result"
    }
   ],
   "source": [
    "savvy.index('d')"
   ]
  },
  {
   "cell_type": "code",
   "execution_count": 10,
   "id": "0d2c7479-da21-4c0c-9e7b-d3b9e954420a",
   "metadata": {
    "tags": []
   },
   "outputs": [
    {
     "data": {
      "text/plain": [
       "'ing Data Analytics and'"
      ]
     },
     "execution_count": 10,
     "metadata": {},
     "output_type": "execute_result"
    }
   ],
   "source": [
    "savvy[5:27]"
   ]
  },
  {
   "cell_type": "code",
   "execution_count": 11,
   "id": "c353236c-a0f5-46c9-9ec5-9fc3aa74be71",
   "metadata": {
    "tags": []
   },
   "outputs": [
    {
     "name": "stdout",
     "output_type": "stream",
     "text": [
      "ing and\n"
     ]
    }
   ],
   "source": [
    "print(savvy[5:8], savvy[24:27])"
   ]
  },
  {
   "cell_type": "markdown",
   "id": "f42798f5-4896-48cd-b635-3d32e3325d9f",
   "metadata": {},
   "source": [
    "#### -Replace \"Awesome\" with \"great\" in the string"
   ]
  },
  {
   "cell_type": "code",
   "execution_count": 12,
   "id": "eb864a51-84ac-4d88-8952-8d37f178f2d2",
   "metadata": {
    "tags": []
   },
   "outputs": [
    {
     "data": {
      "text/plain": [
       "'Learning Data Analytics and Python is grate!'"
      ]
     },
     "execution_count": 12,
     "metadata": {},
     "output_type": "execute_result"
    }
   ],
   "source": [
    "savvy.replace('Awesome', 'grate')"
   ]
  },
  {
   "cell_type": "code",
   "execution_count": 13,
   "id": "dc7d1051-3560-4cf5-8c44-15d076987c0a",
   "metadata": {
    "tags": []
   },
   "outputs": [],
   "source": [
    "savvy_great = savvy.replace('Awesome', 'great')"
   ]
  },
  {
   "cell_type": "code",
   "execution_count": 14,
   "id": "f128fa03-c0a7-42c8-a3fd-357cae5f0e8e",
   "metadata": {
    "tags": []
   },
   "outputs": [
    {
     "name": "stdout",
     "output_type": "stream",
     "text": [
      "28\n"
     ]
    },
    {
     "data": {
      "text/plain": [
       "'Python'"
      ]
     },
     "execution_count": 14,
     "metadata": {},
     "output_type": "execute_result"
    }
   ],
   "source": [
    "print(savvy.index('Python'))\n",
    "savvy[28:34]"
   ]
  },
  {
   "cell_type": "markdown",
   "id": "1d26d7a7-fb84-4d76-a379-a953a3056a2d",
   "metadata": {},
   "source": [
    "#### -Test and print the savvy string to see it contains \"Python\""
   ]
  },
  {
   "cell_type": "code",
   "execution_count": 15,
   "id": "e9c2bfbb-3fe9-4ae3-8404-1874574aafaf",
   "metadata": {
    "tags": []
   },
   "outputs": [
    {
     "data": {
      "text/plain": [
       "'som'"
      ]
     },
     "execution_count": 15,
     "metadata": {},
     "output_type": "execute_result"
    }
   ],
   "source": [
    "savvy[-5:-2]"
   ]
  },
  {
   "cell_type": "code",
   "execution_count": 16,
   "id": "445f0c94-a5a3-4bc5-b2ec-52dc266eeb5b",
   "metadata": {
    "tags": []
   },
   "outputs": [
    {
     "data": {
      "text/plain": [
       "'Learning Data Analytics and Python is great!'"
      ]
     },
     "execution_count": 16,
     "metadata": {},
     "output_type": "execute_result"
    }
   ],
   "source": [
    "savvy_great"
   ]
  },
  {
   "cell_type": "markdown",
   "id": "7f836173-54ed-440e-aba0-7496ac078d07",
   "metadata": {},
   "source": [
    "### 9. Create and assign 3 more variables called name, age and length using the multi-variable naming method."
   ]
  },
  {
   "cell_type": "markdown",
   "id": "62ea3337-1d68-42c2-a14e-6f14b2cfef4d",
   "metadata": {},
   "source": [
    "#### -Format a new string called 'miniBio' using variables in curly brackets to complete this phrase... \"Hi my name is (name), I am (tall) and (so) old today.\""
   ]
  },
  {
   "cell_type": "code",
   "execution_count": 17,
   "id": "b2311007-4dd9-4bcc-842f-afdeb606bcb1",
   "metadata": {
    "tags": []
   },
   "outputs": [],
   "source": [
    "# name, so, tall = 'Josh', 35, '6 feet 7 inches'\n",
    "\n",
    "name = 'Josh'\n",
    "tall = '6 feet 7 inches'\n",
    "so = '35'\n",
    "\n",
    "miniBio = f'Hi my name is {name} I am {tall} and {so} old today.'\n"
   ]
  },
  {
   "cell_type": "markdown",
   "id": "3e0bddb1-9460-4037-8be3-87fc76cc8ae5",
   "metadata": {},
   "source": [
    "#### -Print miniBio"
   ]
  },
  {
   "cell_type": "code",
   "execution_count": 18,
   "id": "bda0c89a-7ba1-460b-a600-8fbeb8b32719",
   "metadata": {
    "tags": []
   },
   "outputs": [
    {
     "name": "stdout",
     "output_type": "stream",
     "text": [
      "Hi my name is Josh I am 6 feet 7 inches and 35 old today.\n"
     ]
    }
   ],
   "source": [
    "print(miniBio)"
   ]
  },
  {
   "cell_type": "markdown",
   "id": "bf66874f-59ce-46a2-9110-f9c4a271a615",
   "metadata": {},
   "source": [
    "#### -Cast and print the age variable to a float"
   ]
  },
  {
   "cell_type": "code",
   "execution_count": 19,
   "id": "aac34553-3b1a-467c-86c2-dc1610cfd810",
   "metadata": {
    "tags": []
   },
   "outputs": [
    {
     "data": {
      "text/plain": [
       "35.0"
      ]
     },
     "execution_count": 19,
     "metadata": {},
     "output_type": "execute_result"
    }
   ],
   "source": [
    "float(so)"
   ]
  },
  {
   "cell_type": "markdown",
   "id": "dd9f6810",
   "metadata": {},
   "source": [
    "### 10. Create a list of at least 5 elements of mixed data type"
   ]
  },
  {
   "cell_type": "code",
   "execution_count": 20,
   "id": "066c417a",
   "metadata": {},
   "outputs": [],
   "source": [
    "list1 = [True, 30.5, 30, 'hey', 'hello']"
   ]
  },
  {
   "cell_type": "markdown",
   "id": "56e88fb4",
   "metadata": {},
   "source": [
    "#### -Replace a part of it with something else"
   ]
  },
  {
   "cell_type": "code",
   "execution_count": 21,
   "id": "e7021753",
   "metadata": {},
   "outputs": [
    {
     "name": "stdout",
     "output_type": "stream",
     "text": [
      "[False, 30.5, 30, 'hey', 'hello']\n"
     ]
    }
   ],
   "source": [
    "list1[0] = False\n",
    "print(list1)"
   ]
  },
  {
   "cell_type": "markdown",
   "id": "50bebc5f",
   "metadata": {},
   "source": [
    "#### -Append or insert several more items to the list"
   ]
  },
  {
   "cell_type": "code",
   "execution_count": 22,
   "id": "7a5c0f33",
   "metadata": {},
   "outputs": [
    {
     "name": "stdout",
     "output_type": "stream",
     "text": [
      "[False, 30.5, 30, 'hey', 'hello', True]\n"
     ]
    }
   ],
   "source": [
    "list1 =[False, 30.5, 30, 'hey', 'hello']\n",
    "list1.append(True)\n",
    "print(list1)\n"
   ]
  },
  {
   "cell_type": "code",
   "execution_count": 23,
   "id": "46ae4176",
   "metadata": {},
   "outputs": [
    {
     "name": "stdout",
     "output_type": "stream",
     "text": [
      "[False, True, 30.5, 30, 'hey', 'hello', True]\n"
     ]
    }
   ],
   "source": [
    "list1.insert(1, True)\n",
    "print(list1)"
   ]
  },
  {
   "cell_type": "markdown",
   "id": "67fe5afa",
   "metadata": {},
   "source": [
    "#### -Find and print the length of the list"
   ]
  },
  {
   "cell_type": "code",
   "execution_count": 24,
   "id": "23cb73d6",
   "metadata": {},
   "outputs": [
    {
     "name": "stdout",
     "output_type": "stream",
     "text": [
      "7\n"
     ]
    }
   ],
   "source": [
    "print(len(list1))"
   ]
  },
  {
   "cell_type": "markdown",
   "id": "b20ef68e",
   "metadata": {},
   "source": [
    "#### -Slice a sub-section of the 1st list, and save it to a different 2nd list. print list"
   ]
  },
  {
   "cell_type": "code",
   "execution_count": 25,
   "id": "ef3b9ba1",
   "metadata": {},
   "outputs": [
    {
     "name": "stdout",
     "output_type": "stream",
     "text": [
      "[False, True, 30.5]\n"
     ]
    }
   ],
   "source": [
    "list2 = list1[0:3]\n",
    "print(list2)"
   ]
  },
  {
   "cell_type": "markdown",
   "id": "e6b0ba0a",
   "metadata": {},
   "source": [
    "#### -Extend your original list with the 2nd list sliced above"
   ]
  },
  {
   "cell_type": "code",
   "execution_count": 26,
   "id": "0edf70e4",
   "metadata": {},
   "outputs": [
    {
     "name": "stdout",
     "output_type": "stream",
     "text": [
      "[False, True, 30.5, 30, 'hey', 'hello', True]\n",
      "[False, True, 30.5, 30, 'hey', 'hello', True, False, True, 30.5]\n"
     ]
    }
   ],
   "source": [
    "print(list1)\n",
    "list1.extend(list2)\n",
    "print(list1)"
   ]
  },
  {
   "cell_type": "markdown",
   "id": "b0b078c6",
   "metadata": {},
   "source": [
    "#### -Create a new list called \"simList\" containing at least 5 elements of the same data type, either string, integer, float, or Boolean"
   ]
  },
  {
   "cell_type": "code",
   "execution_count": 27,
   "id": "8728d0ce",
   "metadata": {},
   "outputs": [
    {
     "name": "stdout",
     "output_type": "stream",
     "text": [
      "[2, 3, 4, 5, 6]\n"
     ]
    }
   ],
   "source": [
    "simList = [2, 3, 6, 5, 4]\n",
    "\n",
    "simList.sort()\n",
    "print(simList)"
   ]
  },
  {
   "cell_type": "code",
   "execution_count": 28,
   "id": "f5c2568c",
   "metadata": {},
   "outputs": [
    {
     "name": "stdout",
     "output_type": "stream",
     "text": [
      "[2, 3, 4, 5, 6, False, True, 30.5]\n"
     ]
    }
   ],
   "source": [
    "simList2 = simList.copy()\n",
    "\n",
    "list4 = simList2+list2 \n",
    "print(list4)"
   ]
  },
  {
   "cell_type": "markdown",
   "id": "205aaa35",
   "metadata": {},
   "source": [
    "### 11. Create a tuple of about 5 elements"
   ]
  },
  {
   "cell_type": "code",
   "execution_count": 4,
   "id": "139108df",
   "metadata": {},
   "outputs": [],
   "source": [
    "mytup = (4,8,5 ,10,25)"
   ]
  },
  {
   "cell_type": "markdown",
   "id": "6bd2f4e7",
   "metadata": {},
   "source": [
    "#### -Multiply your tuple by 3 and save it to a new 2nd tuple"
   ]
  },
  {
   "cell_type": "code",
   "execution_count": 5,
   "id": "1f11700d",
   "metadata": {},
   "outputs": [
    {
     "name": "stdout",
     "output_type": "stream",
     "text": [
      "(4, 8, 5, 10, 25, 4, 8, 5, 10, 25, 4, 8, 5, 10, 25)\n"
     ]
    }
   ],
   "source": [
    "mytup2 = mytup*3\n",
    "print(mytup2)"
   ]
  },
  {
   "cell_type": "markdown",
   "id": "ae67df53",
   "metadata": {},
   "source": [
    "#### -Access and print the 12th element from the 2nd tuple"
   ]
  },
  {
   "cell_type": "code",
   "execution_count": 6,
   "id": "22db5990",
   "metadata": {},
   "outputs": [
    {
     "data": {
      "text/plain": [
       "8"
      ]
     },
     "execution_count": 6,
     "metadata": {},
     "output_type": "execute_result"
    }
   ],
   "source": [
    "mytup2[11]"
   ]
  },
  {
   "cell_type": "code",
   "execution_count": 7,
   "id": "3333078d",
   "metadata": {},
   "outputs": [
    {
     "name": "stdout",
     "output_type": "stream",
     "text": [
      "<class 'tuple'>\n"
     ]
    }
   ],
   "source": [
    "print(tuple)"
   ]
  },
  {
   "cell_type": "markdown",
   "id": "ebcead4a",
   "metadata": {},
   "source": [
    "#### -Sort the 2nd tuple and print it"
   ]
  },
  {
   "cell_type": "code",
   "execution_count": 8,
   "id": "12113201",
   "metadata": {},
   "outputs": [
    {
     "name": "stdout",
     "output_type": "stream",
     "text": [
      "(4, 8, 5, 10, 25, 4, 8, 5, 10, 25, 4, 8, 5, 10, 25)\n",
      "(4, 8, 5, 10, 25, 4, 8, 5, 10, 25, 4, 8, 5, 10, 25)\n",
      "(4, 4, 4, 5, 5, 5, 8, 8, 8, 10, 10, 10, 25, 25, 25)\n"
     ]
    }
   ],
   "source": [
    "mytup2 = mytup*3\n",
    "print(mytup2)\n",
    "\n",
    "print(mytup2)\n",
    "mytup2_sort = tuple(sorted(mytup2))\n",
    "print(mytup2_sort)"
   ]
  },
  {
   "cell_type": "markdown",
   "id": "6b183c25",
   "metadata": {},
   "source": [
    "#### -Copy 4 specific elements from your 2nd tuple to a new 3nd tuple"
   ]
  },
  {
   "cell_type": "code",
   "execution_count": 10,
   "id": "bddf3a9f-babc-42dd-8837-dc53df008fef",
   "metadata": {
    "tags": []
   },
   "outputs": [
    {
     "name": "stdout",
     "output_type": "stream",
     "text": [
      "(25, 4, 8, 5)\n"
     ]
    }
   ],
   "source": [
    "mytup3 =mytup2[4:8]\n",
    "print(mytup3)"
   ]
  },
  {
   "cell_type": "markdown",
   "id": "4fc0c5f9",
   "metadata": {},
   "source": [
    "#### -Unpack the 3rd tuple into 4 variables and print these variables"
   ]
  },
  {
   "cell_type": "code",
   "execution_count": 14,
   "id": "ac5808eb-ddf3-4a60-9867-edeae6190ff6",
   "metadata": {
    "tags": []
   },
   "outputs": [
    {
     "name": "stdout",
     "output_type": "stream",
     "text": [
      "5 8 4 25\n"
     ]
    }
   ],
   "source": [
    "(a,c,z,d) = mytup3\n",
    "print(d,z,c,a)"
   ]
  },
  {
   "cell_type": "markdown",
   "id": "b7d4088c",
   "metadata": {},
   "source": [
    "#### -Create a 4th tuple with single item 50 and print this tuple"
   ]
  },
  {
   "cell_type": "code",
   "execution_count": 15,
   "id": "693f7ca5-6b6a-4bba-b901-cfba34ed786d",
   "metadata": {
    "tags": []
   },
   "outputs": [
    {
     "name": "stdout",
     "output_type": "stream",
     "text": [
      "50\n"
     ]
    }
   ],
   "source": [
    "mytup4 = (50)\n",
    "print(mytup4)"
   ]
  },
  {
   "cell_type": "markdown",
   "id": "0d0c7d4f",
   "metadata": {},
   "source": [
    "#### -Add the 2nd and 3rd tuple together into a 5th tuple and print the tuple"
   ]
  },
  {
   "cell_type": "code",
   "execution_count": 16,
   "id": "de764249-97a2-4e70-8679-e198649d4685",
   "metadata": {
    "tags": []
   },
   "outputs": [
    {
     "name": "stdout",
     "output_type": "stream",
     "text": [
      "(4, 8, 5, 10, 25, 4, 8, 5, 10, 25, 4, 8, 5, 10, 25, 25, 4, 8, 5)\n"
     ]
    }
   ],
   "source": [
    "mytup5 = mytup2+mytup3\n",
    "print(mytup5)"
   ]
  },
  {
   "cell_type": "markdown",
   "id": "73a3096c",
   "metadata": {},
   "source": [
    "### 12.Create a set of about 3 elements"
   ]
  },
  {
   "cell_type": "code",
   "execution_count": 22,
   "id": "72dec6bd-15c1-4c8d-85f3-58f07311270f",
   "metadata": {
    "tags": []
   },
   "outputs": [
    {
     "name": "stdout",
     "output_type": "stream",
     "text": [
      "{'string', 'places', 'people'}\n"
     ]
    }
   ],
   "source": [
    "myset = {'string', 'people', 'places'}\n",
    "print(myset)"
   ]
  },
  {
   "cell_type": "markdown",
   "id": "16b8b8c4",
   "metadata": {},
   "source": [
    "#### -Add a list of fruits to the above set and print the result"
   ]
  },
  {
   "cell_type": "code",
   "execution_count": 25,
   "id": "45759e4a-8675-4069-befc-94eec462a54f",
   "metadata": {
    "tags": []
   },
   "outputs": [
    {
     "name": "stdout",
     "output_type": "stream",
     "text": [
      "{'string', 'jackfruit', 'places', 'people', 'cherry', 'mango', 'starfruit'}\n"
     ]
    }
   ],
   "source": [
    "fruits = ['cherry', 'starfruit', 'jackfruit', 'mango']\n",
    "\n",
    "myset.update(fruits)\n",
    "print(myset)"
   ]
  },
  {
   "cell_type": "markdown",
   "id": "966c31f7",
   "metadata": {},
   "source": [
    "#### -Add a car element to your set"
   ]
  },
  {
   "cell_type": "code",
   "execution_count": 27,
   "id": "6ddda36a-9789-4b1a-a70e-9558c1b6634f",
   "metadata": {
    "tags": []
   },
   "outputs": [
    {
     "name": "stdout",
     "output_type": "stream",
     "text": [
      "{'string', 'jackfruit', 'places', 'people', 'cherry', 'mango', 'volvo', 'starfruit'}\n"
     ]
    }
   ],
   "source": [
    "myset.add('volvo')\n",
    "print(myset)"
   ]
  },
  {
   "cell_type": "markdown",
   "id": "6a8c7f15",
   "metadata": {},
   "source": [
    "#### -Create a 2nd set with a few odd items"
   ]
  },
  {
   "cell_type": "code",
   "execution_count": 28,
   "id": "77a5e03c-bcc1-427c-b1b0-a5635a8248c3",
   "metadata": {
    "tags": []
   },
   "outputs": [
    {
     "name": "stdout",
     "output_type": "stream",
     "text": [
      "{'teak', 'walnut', 'jackfruit', 'volvo', 'teeth'}\n"
     ]
    }
   ],
   "source": [
    "myset2 = {'volvo', 'jackfruit', 'teeth', 'teak', 'walnut'}\n",
    "print(myset2)"
   ]
  },
  {
   "cell_type": "markdown",
   "id": "0b635a91",
   "metadata": {},
   "source": [
    "#### -Save the union of 1st set and 2nd set to a 3rd set"
   ]
  },
  {
   "cell_type": "code",
   "execution_count": 37,
   "id": "88763876-60c1-489b-b8d0-efc293acef4a",
   "metadata": {
    "tags": []
   },
   "outputs": [
    {
     "name": "stdout",
     "output_type": "stream",
     "text": [
      "{'string', 'jackfruit', 'places', 'people', 'cherry', 'mango', 'volvo', 'starfruit'}\n",
      "{'teak', 'walnut', 'jackfruit', 'volvo', 'teeth'}\n"
     ]
    }
   ],
   "source": [
    "print(myset)\n",
    "print(myset2)"
   ]
  },
  {
   "cell_type": "code",
   "execution_count": 36,
   "id": "8d454038-57a1-400c-bcba-798f25e00ca8",
   "metadata": {
    "tags": []
   },
   "outputs": [
    {
     "name": "stdout",
     "output_type": "stream",
     "text": [
      "{'string', 'teak', 'jackfruit', 'places', 'people', 'cherry', 'mango', 'volvo', 'walnut', 'teeth', 'starfruit'}\n"
     ]
    }
   ],
   "source": [
    "myset3 = myset.union(myset2)\n",
    "print(myset3)"
   ]
  },
  {
   "cell_type": "markdown",
   "id": "89fc518e",
   "metadata": {},
   "source": [
    "#### -Pop an element from the 2nd set, and print the remainder of the set"
   ]
  },
  {
   "cell_type": "code",
   "execution_count": 38,
   "id": "ebef5b91-83fd-44fa-b280-5eb00a666edd",
   "metadata": {
    "tags": []
   },
   "outputs": [
    {
     "name": "stdout",
     "output_type": "stream",
     "text": [
      "{'walnut', 'jackfruit', 'volvo', 'teeth'}\n"
     ]
    }
   ],
   "source": [
    "myset2.pop()\n",
    "print(myset2)"
   ]
  },
  {
   "cell_type": "markdown",
   "id": "245640a7",
   "metadata": {},
   "source": [
    "#### -Clear the 1st set and print the result"
   ]
  },
  {
   "cell_type": "code",
   "execution_count": 40,
   "id": "467a6010-be68-4f86-9f23-d9d1070b8b45",
   "metadata": {
    "tags": []
   },
   "outputs": [
    {
     "name": "stdout",
     "output_type": "stream",
     "text": [
      "set()\n"
     ]
    }
   ],
   "source": [
    "myset.clear()\n",
    "print(myset)"
   ]
  },
  {
   "cell_type": "markdown",
   "id": "708bca81",
   "metadata": {},
   "source": [
    "#### -Discard an element, and remove another element from the 3rd set\n",
    "#### -Print the remainder of the 3rd set"
   ]
  },
  {
   "cell_type": "code",
   "execution_count": 45,
   "id": "55d15ce2-74f6-4b34-a555-d3a0e8affbcc",
   "metadata": {
    "tags": []
   },
   "outputs": [
    {
     "name": "stdout",
     "output_type": "stream",
     "text": [
      "{'string', 'jackfruit', 'people', 'cherry', 'mango', 'volvo', 'walnut', 'teeth', 'starfruit'}\n",
      "{'string', 'jackfruit', 'people', 'cherry', 'volvo', 'teeth', 'starfruit'}\n"
     ]
    }
   ],
   "source": [
    "print(myset3)\n",
    "myset3.discard('mango')\n",
    "myset3.remove('walnut')\n",
    "print(myset3)"
   ]
  },
  {
   "cell_type": "markdown",
   "id": "f74712e7-be59-41e1-8c3a-8fdf71c0c2c4",
   "metadata": {},
   "source": [
    "Create a dictionary with at least 5 values of different data types\n",
    "Print out 1 value\n",
    "Replace any one value in your dictionary with your name\n",
    "Add your favorite color to the dictionary\n",
    "Add a list, tuple or set to your dictionary\n",
    "Print a list of the dictionary keys\n",
    "Print a list of the dictionary values\n",
    "Copy your 1st dictionary into a 2nd dictionary\n",
    "Pop an item from the 2nd dictionary, and print the dictionary\n",
    "Remove all the elements from the 2nd dictionary and print the result"
   ]
  },
  {
   "cell_type": "markdown",
   "id": "9213154a",
   "metadata": {},
   "source": [
    "### 13. Create a dictionary with at least 5 values of different data type\n",
    "#### -Print out 1 value"
   ]
  },
  {
   "cell_type": "code",
   "execution_count": 47,
   "id": "d8734dd4-90e0-4a50-87ee-7a6efcd94da0",
   "metadata": {
    "tags": []
   },
   "outputs": [
    {
     "name": "stdout",
     "output_type": "stream",
     "text": [
      "a\n"
     ]
    }
   ],
   "source": [
    "webster = {1: 'a', 2:'b', 3:'c', 4:'d',5:'e'}\n",
    "print(webster[1])"
   ]
  },
  {
   "cell_type": "markdown",
   "id": "23335b41-0bb8-4f4b-a0b2-c436aaf6d26f",
   "metadata": {},
   "source": [
    "#### -Replace any one value in your dictionary with your name"
   ]
  },
  {
   "cell_type": "code",
   "execution_count": 50,
   "id": "4846b75b-2f90-45f4-856b-b905df842d6e",
   "metadata": {
    "tags": []
   },
   "outputs": [
    {
     "name": "stdout",
     "output_type": "stream",
     "text": [
      "{1: 'josh', 2: 'b', 3: 'c', 4: 'd', 5: 'e'}\n"
     ]
    }
   ],
   "source": [
    "webster.update({1: 'josh'})\n",
    "print(webster)"
   ]
  },
  {
   "cell_type": "markdown",
   "id": "30920cf0-9902-4759-80f1-f0d265fd88cf",
   "metadata": {},
   "source": [
    "#### -Add your favorite color to the dictionary"
   ]
  },
  {
   "cell_type": "code",
   "execution_count": 51,
   "id": "925c4840-64a4-460e-b50d-851855e8fa7e",
   "metadata": {
    "tags": []
   },
   "outputs": [
    {
     "name": "stdout",
     "output_type": "stream",
     "text": [
      "{1: 'josh', 2: 'b', 3: 'c', 4: 'd', 5: 'e', 6: 'blue'}\n"
     ]
    }
   ],
   "source": [
    "webster.update({6: 'blue'})\n",
    "print(webster)"
   ]
  },
  {
   "cell_type": "markdown",
   "id": "60462189-42f3-4aff-88ee-b43613939ccd",
   "metadata": {},
   "source": [
    "#### -Add a list, tuple or set to your dictionary"
   ]
  },
  {
   "cell_type": "code",
   "execution_count": 54,
   "id": "ee656b5b-b2d6-4360-82b9-098f18373d51",
   "metadata": {
    "tags": []
   },
   "outputs": [
    {
     "name": "stdout",
     "output_type": "stream",
     "text": [
      "{1: 'josh', 2: 'b', 3: 'c', 4: 'd', 5: 'e', 6: 'blue', 7: ('apple', 'mango')}\n"
     ]
    }
   ],
   "source": [
    "tuppleweb = ('apple', 'mango')\n",
    "webster.update({7: tuppleweb})\n",
    "print(webster)"
   ]
  },
  {
   "cell_type": "markdown",
   "id": "ca857e98-546a-49bf-a6b9-769b792429b5",
   "metadata": {},
   "source": [
    "#### -Print a list of the dictionary keys"
   ]
  },
  {
   "cell_type": "code",
   "execution_count": 55,
   "id": "acf947e4-fa2c-4108-9b8d-31c109c66ed8",
   "metadata": {
    "tags": []
   },
   "outputs": [
    {
     "data": {
      "text/plain": [
       "dict_keys([1, 2, 3, 4, 5, 6, 7])"
      ]
     },
     "execution_count": 55,
     "metadata": {},
     "output_type": "execute_result"
    }
   ],
   "source": [
    "webster.keys()"
   ]
  },
  {
   "cell_type": "markdown",
   "id": "0e4334c7-faf0-4b0a-97ce-ed9cfb9b2b72",
   "metadata": {},
   "source": [
    "#### -Print a list of the dictionary values"
   ]
  },
  {
   "cell_type": "code",
   "execution_count": 56,
   "id": "c51c7936-7c9b-49f4-8f43-b53154ffed8d",
   "metadata": {
    "tags": []
   },
   "outputs": [
    {
     "data": {
      "text/plain": [
       "dict_values(['josh', 'b', 'c', 'd', 'e', 'blue', ('apple', 'mango')])"
      ]
     },
     "execution_count": 56,
     "metadata": {},
     "output_type": "execute_result"
    }
   ],
   "source": [
    "webster.values()"
   ]
  },
  {
   "cell_type": "markdown",
   "id": "c27a09e8-2404-4a10-a3b0-0b6519bece05",
   "metadata": {},
   "source": [
    "#### -Copy your 1st dictionary into a 2nd dictionary"
   ]
  },
  {
   "cell_type": "code",
   "execution_count": 57,
   "id": "17a9da21-f7ec-492a-9802-494b044d583f",
   "metadata": {
    "tags": []
   },
   "outputs": [],
   "source": [
    "webstercopy = webster.copy()"
   ]
  },
  {
   "cell_type": "markdown",
   "id": "d7b018fe-5f4b-43c6-a340-f57712a5e62a",
   "metadata": {},
   "source": [
    "#### -Pop an item from the 2nd dictionary, and print the dictionary"
   ]
  },
  {
   "cell_type": "code",
   "execution_count": 58,
   "id": "655ed805-9d08-4949-9827-26c9bb2953c9",
   "metadata": {
    "tags": []
   },
   "outputs": [
    {
     "data": {
      "text/plain": [
       "'c'"
      ]
     },
     "execution_count": 58,
     "metadata": {},
     "output_type": "execute_result"
    }
   ],
   "source": [
    "webstercopy.pop(3)"
   ]
  },
  {
   "cell_type": "code",
   "execution_count": 59,
   "id": "9b431653-f606-4230-ad61-8a32999a9313",
   "metadata": {
    "tags": []
   },
   "outputs": [
    {
     "name": "stdout",
     "output_type": "stream",
     "text": [
      "{1: 'josh', 2: 'b', 4: 'd', 5: 'e', 6: 'blue', 7: ('apple', 'mango')}\n"
     ]
    }
   ],
   "source": [
    "print(webstercopy)"
   ]
  },
  {
   "cell_type": "markdown",
   "id": "accf61d6-1ba7-45e2-8926-aaaf4f0efbc2",
   "metadata": {},
   "source": [
    "#### -Remove all the elements from the 2nd dictionary and print the result"
   ]
  },
  {
   "cell_type": "code",
   "execution_count": 60,
   "id": "787d20b0-80b6-4b69-939a-50a463f1878a",
   "metadata": {
    "tags": []
   },
   "outputs": [
    {
     "name": "stdout",
     "output_type": "stream",
     "text": [
      "{}\n"
     ]
    }
   ],
   "source": [
    "webstercopy.clear()\n",
    "print(webstercopy)"
   ]
  },
  {
   "cell_type": "markdown",
   "id": "27bd049f-3754-4ee4-8438-bf9feee00656",
   "metadata": {},
   "source": []
  },
  {
   "cell_type": "markdown",
   "id": "2dddbb35-54ec-45ea-84d1-3c2f1bdcc455",
   "metadata": {},
   "source": []
  }
 ],
 "metadata": {
  "kernelspec": {
   "display_name": "Python 3 (ipykernel)",
   "language": "python",
   "name": "python3"
  },
  "language_info": {
   "codemirror_mode": {
    "name": "ipython",
    "version": 3
   },
   "file_extension": ".py",
   "mimetype": "text/x-python",
   "name": "python",
   "nbconvert_exporter": "python",
   "pygments_lexer": "ipython3",
   "version": "3.11.5"
  }
 },
 "nbformat": 4,
 "nbformat_minor": 5
}
